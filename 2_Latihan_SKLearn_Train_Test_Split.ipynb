{
  "nbformat": 4,
  "nbformat_minor": 0,
  "metadata": {
    "colab": {
      "name": "Latihan SKLearn Train Test Split.ipynb",
      "provenance": []
    },
    "kernelspec": {
      "name": "python3",
      "display_name": "Python 3"
    },
    "language_info": {
      "name": "python"
    }
  },
  "cells": [
    {
      "cell_type": "code",
      "metadata": {
        "id": "CBExwYOirTkr"
      },
      "source": [
        "import sklearn\n",
        "from sklearn import datasets"
      ],
      "execution_count": 1,
      "outputs": []
    },
    {
      "cell_type": "code",
      "metadata": {
        "id": "tF1wFmuIsiB8"
      },
      "source": [
        "# load iris dataset\n",
        "iris = datasets.load_iris()"
      ],
      "execution_count": 2,
      "outputs": []
    },
    {
      "cell_type": "code",
      "metadata": {
        "id": "IvEDMbEQsjxt"
      },
      "source": [
        "# pisahkan atribut dan label pada iris dataset\n",
        "x=iris.data\n",
        "y=iris.target"
      ],
      "execution_count": 3,
      "outputs": []
    },
    {
      "cell_type": "code",
      "metadata": {
        "colab": {
          "base_uri": "https://localhost:8080/"
        },
        "id": "VsACb-Opsksx",
        "outputId": "be32f2ba-d970-4035-8ea3-7ecd49f0d1d8"
      },
      "source": [
        "from sklearn.model_selection import train_test_split\n",
        " \n",
        "# membagi dataset menjadi training dan testing \n",
        "x_train, x_test, y_train, y_test = train_test_split(x, y, test_size=0.2)\n",
        "\n",
        "# menghitung panjang/jumlah data pada masing-masing direktori split\n",
        "print(len(x))\n",
        "print(len(x_train))\n",
        "print(len(x_test))\n",
        "print(len(y_train))\n",
        "print(len(y_test))"
      ],
      "execution_count": 5,
      "outputs": [
        {
          "output_type": "stream",
          "text": [
            "150\n",
            "120\n",
            "30\n",
            "120\n",
            "30\n"
          ],
          "name": "stdout"
        }
      ]
    }
  ]
}