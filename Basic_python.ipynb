{
  "nbformat": 4,
  "nbformat_minor": 0,
  "metadata": {
    "colab": {
      "name": "Basic python.ipynb",
      "provenance": [],
      "collapsed_sections": [
        "c7MlyYJfP8_z",
        "BWKQUXpRU41K",
        "QrHx6QIseC2i",
        "RUDdwUq9iT0h",
        "KoVoX_mKnG1V",
        "-x57f9U3XGxT",
        "6UkcaF57Xwnj",
        "DshORi0mbEXB",
        "LMc9VGdWcJXC",
        "4I64x-BqfEN2",
        "xI6Cj1xmfowm",
        "UhQg6mG95OsO",
        "S52E2e1ocaFB",
        "dTPMpNfSeNGN",
        "jOwFnSxQgPia"
      ],
      "toc_visible": true
    },
    "kernelspec": {
      "name": "python3",
      "display_name": "Python 3"
    },
    "language_info": {
      "name": "python"
    }
  },
  "cells": [
    {
      "cell_type": "markdown",
      "metadata": {
        "id": "c7MlyYJfP8_z"
      },
      "source": [
        "# Tipe Data pada Python - Numbers, String, dan Boolean"
      ]
    },
    {
      "cell_type": "markdown",
      "metadata": {
        "id": "GhwftJ1rQEM5"
      },
      "source": [
        "**Numbers**\n",
        "\n",
        "Tipe numerik pada Python dibagi menjadi 3: int, float, complex"
      ]
    },
    {
      "cell_type": "code",
      "metadata": {
        "colab": {
          "base_uri": "https://localhost:8080/"
        },
        "id": "1OyvDZl9QDSv",
        "outputId": "a80b8648-3234-47c9-9ae3-c69d7fd8ee9f"
      },
      "source": [
        "a = 10\n",
        "print(a, \"bertipe\", type(a))\n",
        "b = 1.7\n",
        "print(a, \"bertipe\", type(b))\n",
        "c = 1+3j\n",
        "print(c, \" Bertipe bilangan kompleks? \", isinstance(1+3j,complex))"
      ],
      "execution_count": null,
      "outputs": [
        {
          "output_type": "stream",
          "text": [
            "10 bertipe <class 'int'>\n",
            "10 bertipe <class 'float'>\n",
            "(1+3j)  Bertipe bilangan kompleks?  True\n"
          ],
          "name": "stdout"
        }
      ]
    },
    {
      "cell_type": "code",
      "metadata": {
        "colab": {
          "base_uri": "https://localhost:8080/"
        },
        "id": "IOujgZKZQfE1",
        "outputId": "b2560e70-4784-4dbd-d7ce-c116e66bfc7b"
      },
      "source": [
        "x=[0]*10005;              #inisialisasi array 0 sebanyak 10005; x[0]=0\n",
        "x[1]=1;                   #x[1]=1\n",
        " \n",
        "for j in range(2,10001):\n",
        "      x[j]=x[j-1]+x[j-2]  # Fibonacci\n",
        "print(x[10000])"
      ],
      "execution_count": null,
      "outputs": [
        {
          "output_type": "stream",
          "text": [
            "33644764876431783266621612005107543310302148460680063906564769974680081442166662368155595513633734025582065332680836159373734790483865268263040892463056431887354544369559827491606602099884183933864652731300088830269235673613135117579297437854413752130520504347701602264758318906527890855154366159582987279682987510631200575428783453215515103870818298969791613127856265033195487140214287532698187962046936097879900350962302291026368131493195275630227837628441540360584402572114334961180023091208287046088923962328835461505776583271252546093591128203925285393434620904245248929403901706233888991085841065183173360437470737908552631764325733993712871937587746897479926305837065742830161637408969178426378624212835258112820516370298089332099905707920064367426202389783111470054074998459250360633560933883831923386783056136435351892133279732908133732642652633989763922723407882928177953580570993691049175470808931841056146322338217465637321248226383092103297701648054726243842374862411453093812206564914032751086643394517512161526545361333111314042436854805106765843493523836959653428071768775328348234345557366719731392746273629108210679280784718035329131176778924659089938635459327894523777674406192240337638674004021330343297496902028328145933418826817683893072003634795623117103101291953169794607632737589253530772552375943788434504067715555779056450443016640119462580972216729758615026968443146952034614932291105970676243268515992834709891284706740862008587135016260312071903172086094081298321581077282076353186624611278245537208532365305775956430072517744315051539600905168603220349163222640885248852433158051534849622434848299380905070483482449327453732624567755879089187190803662058009594743150052402532709746995318770724376825907419939632265984147498193609285223945039707165443156421328157688908058783183404917434556270520223564846495196112460268313970975069382648706613264507665074611512677522748621598642530711298441182622661057163515069260029861704945425047491378115154139941550671256271197133252763631939606902895650288268608362241082050562430701794976171121233066073310059947366875\n"
          ],
          "name": "stdout"
        }
      ]
    },
    {
      "cell_type": "code",
      "metadata": {
        "colab": {
          "base_uri": "https://localhost:8080/"
        },
        "id": "NLL2VfdbQp2u",
        "outputId": "67088c82-df86-41c0-9b02-0ff4d275b2a5"
      },
      "source": [
        "#Batasan akurasi variabel bertipe float\n",
        "b = 0.1234567890123456789\n",
        "print(b)"
      ],
      "execution_count": null,
      "outputs": [
        {
          "output_type": "stream",
          "text": [
            "0.12345678901234568\n"
          ],
          "name": "stdout"
        }
      ]
    },
    {
      "cell_type": "code",
      "metadata": {
        "colab": {
          "base_uri": "https://localhost:8080/"
        },
        "id": "ugXT6IvYQrmO",
        "outputId": "8f2fc4c8-964c-4c6f-eb66-4c9c968bc12a"
      },
      "source": [
        "# Contoh jika berupa integer:\n",
        "a = 1234567890123456789\n",
        "print(a)"
      ],
      "execution_count": null,
      "outputs": [
        {
          "output_type": "stream",
          "text": [
            "1234567890123456789\n"
          ],
          "name": "stdout"
        }
      ]
    },
    {
      "cell_type": "code",
      "metadata": {
        "id": "HsjZxt8IRCdC",
        "colab": {
          "base_uri": "https://localhost:8080/"
        },
        "outputId": "3bf25f2a-980d-4d6e-ba68-001a45d77ec0"
      },
      "source": [
        "c = 1+5j\n",
        "print(c)"
      ],
      "execution_count": null,
      "outputs": [
        {
          "output_type": "stream",
          "text": [
            "(1+5j)\n"
          ],
          "name": "stdout"
        }
      ]
    },
    {
      "cell_type": "markdown",
      "metadata": {
        "id": "_7DopY15TI7h"
      },
      "source": [
        "**Strings**\n",
        "\n",
        "String adalah urutan dari karakter unicode yang dideklarasikan dengan petik tunggal atau ganda. String >1baris dapat ditandai dengan tiga petik tunggal atau ganda ''' atau \"\"\"."
      ]
    },
    {
      "cell_type": "code",
      "metadata": {
        "id": "zo4ORNzgTGhb"
      },
      "source": [
        "s = \"Ini adalah string baris tunggal\""
      ],
      "execution_count": null,
      "outputs": []
    },
    {
      "cell_type": "code",
      "metadata": {
        "id": "6h_4O3wYTTLp"
      },
      "source": [
        "s = '''Ini adalah string\n",
        "yang memiliki baris pertama\n",
        "dan selanjutnya baris kedua'''"
      ],
      "execution_count": null,
      "outputs": []
    },
    {
      "cell_type": "markdown",
      "metadata": {
        "id": "vnSSmCLiTe7u"
      },
      "source": [
        "**Bool/Boolean**\n",
        "\n",
        "Tipe data bool atau Boolean merupakan turunan dari bilangan bulat (integer atau int) yang hanya punya dua nilai konstanta: True dan False."
      ]
    },
    {
      "cell_type": "code",
      "metadata": {
        "colab": {
          "base_uri": "https://localhost:8080/"
        },
        "id": "ymFQV5TAUSvc",
        "outputId": "ee2f4d38-c496-439d-b785-c703775d9831"
      },
      "source": [
        "foo = True\n",
        "bar = False\n",
        "  \n",
        "print(foo)\n",
        "print(bar)"
      ],
      "execution_count": null,
      "outputs": [
        {
          "output_type": "stream",
          "text": [
            "True\n",
            "False\n"
          ],
          "name": "stdout"
        }
      ]
    },
    {
      "cell_type": "code",
      "metadata": {
        "colab": {
          "base_uri": "https://localhost:8080/"
        },
        "id": "cAc2Lt-RUwUs",
        "outputId": "19b67416-b713-49a0-e7c8-accba5ade680"
      },
      "source": [
        "foo = 12 < 10\n",
        "print(foo)\n",
        "foo = 12 > 10\n",
        "print(foo)\n",
        "foo = \"A\" == \"a\"\n",
        "print(foo)"
      ],
      "execution_count": null,
      "outputs": [
        {
          "output_type": "stream",
          "text": [
            "False\n",
            "True\n",
            "False\n"
          ],
          "name": "stdout"
        }
      ]
    },
    {
      "cell_type": "code",
      "metadata": {
        "id": "Y-C-TttwU1xW"
      },
      "source": [
        ""
      ],
      "execution_count": null,
      "outputs": []
    },
    {
      "cell_type": "markdown",
      "metadata": {
        "id": "BWKQUXpRU41K"
      },
      "source": [
        "# Tipe Data pada Python - List, Slicing, Tuple, Set, dan Dictionary"
      ]
    },
    {
      "cell_type": "markdown",
      "metadata": {
        "id": "jag1TqgoU-LF"
      },
      "source": [
        "**List**\n",
        "\n",
        "List adalah jenis kumpulan data terurut (ordered sequence), dan merupakan salah satu variabel yang sering digunakan pada Python."
      ]
    },
    {
      "cell_type": "code",
      "metadata": {
        "id": "O_oQDdWWU7zS"
      },
      "source": [
        "a = [1, 2.2, 'python']"
      ],
      "execution_count": null,
      "outputs": []
    },
    {
      "cell_type": "code",
      "metadata": {
        "colab": {
          "base_uri": "https://localhost:8080/"
        },
        "id": "VWmC1LQbVKQF",
        "outputId": "0269b8b8-d8dd-449b-eb76-bc36392c07ea"
      },
      "source": [
        "x = [5,10,15,20,25,30,35,40]\n",
        "\n",
        "# x[0] artinya mengambil elemen paling awal, dengan index 0 dari List x.\n",
        "print(x[0])\n",
        "\n",
        "# x[5] artinya mengambil elemen dengan index 5 dari List x.\n",
        "print(x[5])\n",
        "\n",
        "#x[-1] artinya mengambil elemen dengan index paling belakang ke-1 dari List x.\n",
        "print(x[-1])\n",
        "\n",
        "# x[3:5] artinya membuat list dari anggota elemen List x dengan index 3 hingga sebelum index 5 \n",
        "#(tidak termasuk elemen dengan index 5, dalam hal ini hanya index 3-4).\n",
        "print(x[3:5])\n",
        "\n",
        "# x[:5] artinya membuat list dari anggota elemen List x paling awal hingga sebelum index 5 \n",
        "#(tidak termasuk elemen dengan index 5, dalam hal ini hanya index 0-4).\n",
        "print(x[:5])\n",
        "\n",
        "# x[-3:] artinya membuat list dari anggota elemen List x mulai index ke-3 dari belakang hingga paling belakang.\n",
        "print(x[-3:])\n",
        "\n",
        "#x[1:7:2] artinya membuat list dari anggota elemen List x dengan index 1 hingga sebelum index 7, dengan \"step\" 2 \n",
        "#(dalam hal ini hanya index 1, 3, 5).\n",
        "print(x[1:7:2])"
      ],
      "execution_count": null,
      "outputs": [
        {
          "output_type": "stream",
          "text": [
            "5\n",
            "30\n",
            "40\n",
            "[20, 25]\n",
            "[5, 10, 15, 20, 25]\n",
            "[30, 35, 40]\n",
            "[10, 20, 30]\n"
          ],
          "name": "stdout"
        }
      ]
    },
    {
      "cell_type": "code",
      "metadata": {
        "colab": {
          "base_uri": "https://localhost:8080/"
        },
        "id": "OZbdt7QpWDz-",
        "outputId": "db1a0a2e-0979-4b43-b6b4-a44722c603e8"
      },
      "source": [
        "#Elemen pada list dapat diubah atau ditambahkan. Misalnya untuk melakukan perubahan kemudian penambahan:\n",
        "x = [1,2,3]\n",
        "x[2]=4\n",
        "print (x)"
      ],
      "execution_count": null,
      "outputs": [
        {
          "output_type": "stream",
          "text": [
            "[1, 2, 4]\n"
          ],
          "name": "stdout"
        }
      ]
    },
    {
      "cell_type": "code",
      "metadata": {
        "colab": {
          "base_uri": "https://localhost:8080/"
        },
        "id": "nzsa4ATfWT6I",
        "outputId": "8c7a0a28-3aaf-4c5c-e182-2503b5228c96"
      },
      "source": [
        "x = [1,2,3]\n",
        "x[2]=4\n",
        "x.append(5)\n",
        "print(x)"
      ],
      "execution_count": null,
      "outputs": [
        {
          "output_type": "stream",
          "text": [
            "[1, 2, 4, 5]\n"
          ],
          "name": "stdout"
        }
      ]
    },
    {
      "cell_type": "code",
      "metadata": {
        "colab": {
          "base_uri": "https://localhost:8080/"
        },
        "id": "6gOzE7YKWZ1u",
        "outputId": "21fc50c6-509b-4ba0-8424-80cc895ce359"
      },
      "source": [
        "#Untuk menghapus item pada list, gunakan fungsi del. Ingat bahwa Indeks Python dimulai dari 0:\n",
        "binatang = ['kucing', 'rusa', 'badak', 'gajah']\n",
        "del binatang[2]\n",
        "print(binatang)"
      ],
      "execution_count": null,
      "outputs": [
        {
          "output_type": "stream",
          "text": [
            "['kucing', 'rusa', 'gajah']\n"
          ],
          "name": "stdout"
        }
      ]
    },
    {
      "cell_type": "code",
      "metadata": {
        "colab": {
          "base_uri": "https://localhost:8080/"
        },
        "id": "qFFIUFbAWnrK",
        "outputId": "3f283618-4150-4f24-ec85-7c31a1c56ec3"
      },
      "source": [
        "del binatang [2]\n",
        "print(binatang)"
      ],
      "execution_count": null,
      "outputs": [
        {
          "output_type": "stream",
          "text": [
            "['kucing', 'rusa']\n"
          ],
          "name": "stdout"
        }
      ]
    },
    {
      "cell_type": "markdown",
      "metadata": {
        "id": "VGwT59b9W32A"
      },
      "source": [
        "**Slicing pada String**\n",
        "\n",
        "string mirip dengan list, maka slicing operator [ ]  juga dapat digunakan pada string untuk mengambil isinya atau bahkan substring."
      ]
    },
    {
      "cell_type": "code",
      "metadata": {
        "colab": {
          "base_uri": "https://localhost:8080/",
          "height": 274
        },
        "id": "Yfin-izHWzSp",
        "outputId": "3a058656-c620-4591-a945-ae3f817456c6"
      },
      "source": [
        "s = \"Hello World!\"\n",
        "print(s[4]) \t\t#ambil karakter kelima dari string s\n",
        "print(s[6:11]) \t\t#ambil karakter ketujuh hingga sebelas dari string s\n",
        "s[5]=\"d\" \t\t#ubah karakter keenam dari string s menjadi \"d\", seharusnya gagal karena immutable\n",
        "s = \"Halo Dunia!\"\t#ubah isi string s menjadi \"Halo Dunia!\", seharusnya berhasil karena mutable\n",
        "print (s)"
      ],
      "execution_count": null,
      "outputs": [
        {
          "output_type": "stream",
          "text": [
            "o\n",
            "World\n"
          ],
          "name": "stdout"
        },
        {
          "output_type": "error",
          "ename": "TypeError",
          "evalue": "ignored",
          "traceback": [
            "\u001b[0;31m---------------------------------------------------------------------------\u001b[0m",
            "\u001b[0;31mTypeError\u001b[0m                                 Traceback (most recent call last)",
            "\u001b[0;32m<ipython-input-20-b48490b4540d>\u001b[0m in \u001b[0;36m<module>\u001b[0;34m()\u001b[0m\n\u001b[1;32m      2\u001b[0m \u001b[0mprint\u001b[0m\u001b[0;34m(\u001b[0m\u001b[0ms\u001b[0m\u001b[0;34m[\u001b[0m\u001b[0;36m4\u001b[0m\u001b[0;34m]\u001b[0m\u001b[0;34m)\u001b[0m             \u001b[0;31m#ambil karakter kelima dari string s\u001b[0m\u001b[0;34m\u001b[0m\u001b[0;34m\u001b[0m\u001b[0m\n\u001b[1;32m      3\u001b[0m \u001b[0mprint\u001b[0m\u001b[0;34m(\u001b[0m\u001b[0ms\u001b[0m\u001b[0;34m[\u001b[0m\u001b[0;36m6\u001b[0m\u001b[0;34m:\u001b[0m\u001b[0;36m11\u001b[0m\u001b[0;34m]\u001b[0m\u001b[0;34m)\u001b[0m          \u001b[0;31m#ambil karakter ketujuh hingga sebelas dari string s\u001b[0m\u001b[0;34m\u001b[0m\u001b[0;34m\u001b[0m\u001b[0m\n\u001b[0;32m----> 4\u001b[0;31m \u001b[0ms\u001b[0m\u001b[0;34m[\u001b[0m\u001b[0;36m5\u001b[0m\u001b[0;34m]\u001b[0m\u001b[0;34m=\u001b[0m\u001b[0;34m\"d\"\u001b[0m                \u001b[0;31m#ubah karakter keenam dari string s menjadi \"d\", seharusnya gagal karena immutable\u001b[0m\u001b[0;34m\u001b[0m\u001b[0;34m\u001b[0m\u001b[0m\n\u001b[0m\u001b[1;32m      5\u001b[0m \u001b[0ms\u001b[0m \u001b[0;34m=\u001b[0m \u001b[0;34m\"Halo Dunia!\"\u001b[0m       \u001b[0;31m#ubah isi string s menjadi \"Halo Dunia!\", seharusnya berhasil karena mutable\u001b[0m\u001b[0;34m\u001b[0m\u001b[0;34m\u001b[0m\u001b[0m\n\u001b[1;32m      6\u001b[0m \u001b[0mprint\u001b[0m \u001b[0;34m(\u001b[0m\u001b[0ms\u001b[0m\u001b[0;34m)\u001b[0m\u001b[0;34m\u001b[0m\u001b[0;34m\u001b[0m\u001b[0m\n",
            "\u001b[0;31mTypeError\u001b[0m: 'str' object does not support item assignment"
          ]
        }
      ]
    },
    {
      "cell_type": "markdown",
      "metadata": {
        "id": "xjc6JrxJXmQ9"
      },
      "source": [
        "**Tuple**\n",
        "\n",
        "Tuple adalah jenis dari list yang tidak dapat diubah elemennya. Umumnya tuple digunakan untuk data yang bersifat sekali tulis, dan dapat dieksekusi lebih cepat. Tuple didefinisikan dengan kurung dan elemen yang dipisahkan dengan koma."
      ]
    },
    {
      "cell_type": "code",
      "metadata": {
        "id": "xdR7fnDwXscv"
      },
      "source": [
        "t = (1234, 4321, 'Hello')\n",
        "\n",
        "t = 1234, 432, 'World!'"
      ],
      "execution_count": null,
      "outputs": []
    },
    {
      "cell_type": "code",
      "metadata": {
        "id": "_E2wdf2CYKji"
      },
      "source": [
        "# Membuat tuple kosong\n",
        "kosong = ()"
      ],
      "execution_count": null,
      "outputs": []
    },
    {
      "cell_type": "code",
      "metadata": {
        "colab": {
          "base_uri": "https://localhost:8080/"
        },
        "id": "rrWZj7d9YOLi",
        "outputId": "9f295850-8a86-4208-cb1a-7e8084f37fb7"
      },
      "source": [
        "# membuat tuple\n",
        "nama = ('petani', 'kode', 'linux')\n",
        "\n",
        "# mengakses nilai tuple\n",
        "print(nama[1])"
      ],
      "execution_count": null,
      "outputs": [
        {
          "output_type": "stream",
          "text": [
            "kode\n"
          ],
          "name": "stdout"
        }
      ]
    },
    {
      "cell_type": "code",
      "metadata": {
        "colab": {
          "base_uri": "https://localhost:8080/"
        },
        "id": "LZ-kTKmBYdx2",
        "outputId": "bedf9803-47cb-4e00-e02a-aacf84797bf6"
      },
      "source": [
        "# Membuat Tuple\n",
        "hari = ('Senin', 'Selasa', 'Rabu', 'Kamis', 'Jum\\'at', 'Sabtu', 'Minggu')\n",
        "\n",
        "# Mengambil panjang tuple hari\n",
        "print(\"Jumlah hari: %d\" % len(hari))"
      ],
      "execution_count": null,
      "outputs": [
        {
          "output_type": "stream",
          "text": [
            "Jumlah hari: 7\n"
          ],
          "name": "stdout"
        }
      ]
    },
    {
      "cell_type": "code",
      "metadata": {
        "colab": {
          "base_uri": "https://localhost:8080/"
        },
        "id": "846zV32mYtVD",
        "outputId": "12ef022b-c81f-452b-9079-c6ab51f5cd74"
      },
      "source": [
        "#Tuple Nested\n",
        "tuple1 = \"aku\", \"cinta\", \"kamu\"\n",
        "tuple2 = \"selama\", 3, \"tahun\"\n",
        "tuple3 = (tuple1, tuple2) # <- nested tuple\n",
        "print(tuple3)"
      ],
      "execution_count": null,
      "outputs": [
        {
          "output_type": "stream",
          "text": [
            "(('aku', 'cinta', 'kamu'), ('selama', 3, 'tahun'))\n"
          ],
          "name": "stdout"
        }
      ]
    },
    {
      "cell_type": "markdown",
      "metadata": {
        "id": "Aj0BwEVQZHSy"
      },
      "source": [
        "**Set**\n",
        "\n",
        "Set adalah kumpulan item bersifat unik dan tanpa urutan (unordered collection). Didefinisikan dengan kurawal dan elemennya dipisahkan dengan koma."
      ]
    },
    {
      "cell_type": "code",
      "metadata": {
        "colab": {
          "base_uri": "https://localhost:8080/"
        },
        "id": "B0sy6eZAZOJd",
        "outputId": "c13347c1-06a2-4f33-cb70-0491b53b82db"
      },
      "source": [
        "a = {1,2,2,3,3,3}\n",
        "print(a)"
      ],
      "execution_count": null,
      "outputs": [
        {
          "output_type": "stream",
          "text": [
            "{1, 2, 3}\n"
          ],
          "name": "stdout"
        }
      ]
    },
    {
      "cell_type": "code",
      "metadata": {
        "colab": {
          "base_uri": "https://localhost:8080/"
        },
        "id": "Qs7LPqwOZVdz",
        "outputId": "208c747c-2083-404a-f894-142cd32aa0b7"
      },
      "source": [
        "# set dengan nlai campuran\n",
        "data = {'a','b','c','d',1,2,3,4}\n",
        "print (data)\n",
        " \n",
        "# set tidak menampung nilai yang sama\n",
        "x = {1,2,3,4,5,6,1,2,3,4}\n",
        "print (x)"
      ],
      "execution_count": null,
      "outputs": [
        {
          "output_type": "stream",
          "text": [
            "{'a', 1, 2, 3, 4, 'b', 'c', 'd'}\n",
            "{1, 2, 3, 4, 5, 6}\n"
          ],
          "name": "stdout"
        }
      ]
    },
    {
      "cell_type": "code",
      "metadata": {
        "colab": {
          "base_uri": "https://localhost:8080/"
        },
        "id": "Ugt6wl7kZmt6",
        "outputId": "accc1133-f9c4-4730-9ed2-71b5355a351b"
      },
      "source": [
        "# Menambahkan angota dalam tipe data set\n",
        "data = {'a','b','c','d',1,2,3,4}\n",
        "print (data)\n",
        " \n",
        "# tambahkan nilai 10 untuk anggota set dengan menggunakan fungsi add()\n",
        "data.add(10)\n",
        "print(data)\n",
        " \n",
        "# tambahkan nilai 11,12,13 untuk anggota set dengan menggunakan fungsi update()\n",
        "data.update([11,12,13])\n",
        "print(data)"
      ],
      "execution_count": null,
      "outputs": [
        {
          "output_type": "stream",
          "text": [
            "{'a', 1, 2, 3, 4, 'b', 'c', 'd'}\n",
            "{'a', 1, 2, 3, 4, 'b', 10, 'c', 'd'}\n",
            "{'a', 1, 2, 3, 4, 'b', 10, 11, 12, 13, 'c', 'd'}\n"
          ],
          "name": "stdout"
        }
      ]
    },
    {
      "cell_type": "code",
      "metadata": {
        "colab": {
          "base_uri": "https://localhost:8080/",
          "height": 274
        },
        "id": "dSd331pNZ72c",
        "outputId": "76fc2971-79f1-4faa-9272-8b58769ffbb3"
      },
      "source": [
        "# Menghapus angota dalam tipe data set\n",
        "data = {'a','b','c','d',1,2,3,4}\n",
        "print (data)\n",
        " \n",
        "# menghapus anggota menggunakan fungsi remove()\n",
        "data.remove(3)\n",
        "print(data)\n",
        "data.remove(5)\n",
        "print(data)\n",
        "\n",
        "#Untuk menghapus data mengunakan fungsi remove(), akan menampilkan error jika data tidak termaksud anggota tipe data set "
      ],
      "execution_count": null,
      "outputs": [
        {
          "output_type": "stream",
          "text": [
            "{'a', 1, 2, 3, 4, 'b', 'c', 'd'}\n",
            "{'a', 1, 2, 4, 'b', 'c', 'd'}\n"
          ],
          "name": "stdout"
        },
        {
          "output_type": "error",
          "ename": "KeyError",
          "evalue": "ignored",
          "traceback": [
            "\u001b[0;31m---------------------------------------------------------------------------\u001b[0m",
            "\u001b[0;31mKeyError\u001b[0m                                  Traceback (most recent call last)",
            "\u001b[0;32m<ipython-input-33-dcca8ed05563>\u001b[0m in \u001b[0;36m<module>\u001b[0;34m()\u001b[0m\n\u001b[1;32m      6\u001b[0m \u001b[0mdata\u001b[0m\u001b[0;34m.\u001b[0m\u001b[0mremove\u001b[0m\u001b[0;34m(\u001b[0m\u001b[0;36m3\u001b[0m\u001b[0;34m)\u001b[0m\u001b[0;34m\u001b[0m\u001b[0;34m\u001b[0m\u001b[0m\n\u001b[1;32m      7\u001b[0m \u001b[0mprint\u001b[0m\u001b[0;34m(\u001b[0m\u001b[0mdata\u001b[0m\u001b[0;34m)\u001b[0m\u001b[0;34m\u001b[0m\u001b[0;34m\u001b[0m\u001b[0m\n\u001b[0;32m----> 8\u001b[0;31m \u001b[0mdata\u001b[0m\u001b[0;34m.\u001b[0m\u001b[0mremove\u001b[0m\u001b[0;34m(\u001b[0m\u001b[0;36m5\u001b[0m\u001b[0;34m)\u001b[0m\u001b[0;34m\u001b[0m\u001b[0;34m\u001b[0m\u001b[0m\n\u001b[0m\u001b[1;32m      9\u001b[0m \u001b[0mprint\u001b[0m\u001b[0;34m(\u001b[0m\u001b[0mdata\u001b[0m\u001b[0;34m)\u001b[0m\u001b[0;34m\u001b[0m\u001b[0;34m\u001b[0m\u001b[0m\n\u001b[1;32m     10\u001b[0m \u001b[0;34m\u001b[0m\u001b[0m\n",
            "\u001b[0;31mKeyError\u001b[0m: 5"
          ]
        }
      ]
    },
    {
      "cell_type": "code",
      "metadata": {
        "colab": {
          "base_uri": "https://localhost:8080/"
        },
        "id": "2tt6ZbNPaO8c",
        "outputId": "236d7d75-c34b-45f1-a027-5d07db80ee04"
      },
      "source": [
        "data = {'a','b','c','d',1,2,3,4}\n",
        "print (data)\n",
        " \n",
        "# menghapus anggota menggunakan fungsi discard()\n",
        "data.discard(3)\n",
        "print(data)\n",
        "data.discard(5)\n",
        "print(data)"
      ],
      "execution_count": null,
      "outputs": [
        {
          "output_type": "stream",
          "text": [
            "{'a', 1, 2, 3, 4, 'b', 'c', 'd'}\n",
            "{'a', 1, 2, 4, 'b', 'c', 'd'}\n",
            "{'a', 1, 2, 4, 'b', 'c', 'd'}\n"
          ],
          "name": "stdout"
        }
      ]
    },
    {
      "cell_type": "code",
      "metadata": {
        "colab": {
          "base_uri": "https://localhost:8080/"
        },
        "id": "6nMoB_wya_BL",
        "outputId": "a1e84719-03b3-473e-f3a3-334e41f56662"
      },
      "source": [
        "#Operasi himpunan mengunakan SET\n",
        "\n",
        "#Operasi gabungan\n",
        "data1 = {1,2,3,4}\n",
        "data2 = {1,2,7,8}\n",
        "# menggunakan tanda palang |\n",
        "print(data1|data2)\n",
        " \n",
        "# menggunakan fungsi union\n",
        "data3 = data1.union(data2)\n",
        "print (data3)"
      ],
      "execution_count": null,
      "outputs": [
        {
          "output_type": "stream",
          "text": [
            "{1, 2, 3, 4, 7, 8}\n",
            "{1, 2, 3, 4, 7, 8}\n"
          ],
          "name": "stdout"
        }
      ]
    },
    {
      "cell_type": "code",
      "metadata": {
        "colab": {
          "base_uri": "https://localhost:8080/"
        },
        "id": "5tOpjbEzbPLO",
        "outputId": "e8661509-2a8a-4959-c224-5d783a02541d"
      },
      "source": [
        "#Operasi Irisan\n",
        "\n",
        "data1 = {1,2,3,4}\n",
        "data2 = {1,2,7,8}\n",
        "# menggunakan tanda palang |\n",
        "print(data1 & data2)\n",
        " \n",
        "# menggunakan fungsi intersection\n",
        "data3 = data1.intersection(data2)\n",
        "print (data3)"
      ],
      "execution_count": null,
      "outputs": [
        {
          "output_type": "stream",
          "text": [
            "{1, 2}\n",
            "{1, 2}\n"
          ],
          "name": "stdout"
        }
      ]
    },
    {
      "cell_type": "code",
      "metadata": {
        "colab": {
          "base_uri": "https://localhost:8080/"
        },
        "id": "8ao5EEJLbcrC",
        "outputId": "e1bd3e66-aadc-4317-8d64-6fd6ab584495"
      },
      "source": [
        "#Operasi Selisih\n",
        "\n",
        "data1 = {1,2,3,4}\n",
        "data2 = {1,2,7,8}\n",
        "# menggunakan tanda min -\n",
        "print(data1 - data2)\n",
        " \n",
        "# menggunakan fungsi difference\n",
        "data3 = data1.difference(data2)\n",
        "print (data3)"
      ],
      "execution_count": null,
      "outputs": [
        {
          "output_type": "stream",
          "text": [
            "{3, 4}\n",
            "{3, 4}\n"
          ],
          "name": "stdout"
        }
      ]
    },
    {
      "cell_type": "code",
      "metadata": {
        "colab": {
          "base_uri": "https://localhost:8080/"
        },
        "id": "klxn5ef6bmMK",
        "outputId": "ddf2ade2-585d-4ab9-ced0-35c8b0693505"
      },
      "source": [
        "# Operasi Komplemen\n",
        "data1 = {1,2,3,4}\n",
        "data2 = {1,2,7,8}\n",
        "# menggunakan tanda min -\n",
        "print(data1 ^ data2)\n",
        " \n",
        "# menggunakan fungsi difference\n",
        "data3 = data1.symmetric_difference(data2)\n",
        "print (data3)"
      ],
      "execution_count": null,
      "outputs": [
        {
          "output_type": "stream",
          "text": [
            "{3, 4, 7, 8}\n",
            "{3, 4, 7, 8}\n"
          ],
          "name": "stdout"
        }
      ]
    },
    {
      "cell_type": "markdown",
      "metadata": {
        "id": "ToSB7s8AbyYn"
      },
      "source": [
        "**Dictionary**\n",
        "\n",
        "Dictionary pada Python adalah kumpulan pasangan kunci-nilai (pair of key-value) yang bersifat tidak berurutan. Dictionary dapat digunakan untuk menyimpan data kecil hingga besar. Untuk mengakses datanya, kita harus mengetahui kuncinya (key)."
      ]
    },
    {
      "cell_type": "code",
      "metadata": {
        "colab": {
          "base_uri": "https://localhost:8080/"
        },
        "id": "CYcgHGPGbx7Z",
        "outputId": "554257aa-0b40-4abf-a0a3-ec5538408b77"
      },
      "source": [
        "d = {1:'value','key':2}\n",
        "print(type(d))"
      ],
      "execution_count": null,
      "outputs": [
        {
          "output_type": "stream",
          "text": [
            "<class 'dict'>\n"
          ],
          "name": "stdout"
        }
      ]
    },
    {
      "cell_type": "code",
      "metadata": {
        "colab": {
          "base_uri": "https://localhost:8080/"
        },
        "id": "_2lgygM8cKzn",
        "outputId": "54e4bd84-5af1-4c5a-9f16-4721fbbf23be"
      },
      "source": [
        "d = {1:'value','key':2}\n",
        "print(type(d))\n",
        "print(\"d[1] = \", d[1]);\n",
        "print(\"d['key'] = \", d['key']);"
      ],
      "execution_count": null,
      "outputs": [
        {
          "output_type": "stream",
          "text": [
            "<class 'dict'>\n",
            "d[1] =  value\n",
            "d['key'] =  2\n"
          ],
          "name": "stdout"
        }
      ]
    },
    {
      "cell_type": "code",
      "metadata": {
        "colab": {
          "base_uri": "https://localhost:8080/",
          "height": 256
        },
        "id": "TIOPKMovclyX",
        "outputId": "cb372ed1-55f1-4c0e-edf7-2356e5ec2810"
      },
      "source": [
        "#Dictionary bukan termasuk dalam implementasi urutan (sequences), sehingga tidak bisa dipanggil dengan urutan indeks.\n",
        "\n",
        "d = {1:'value','key':2}\n",
        "print(type(d))\n",
        "print(\"d[1] = \", d[1]);\n",
        "print(\"d['key'] = \", d['key']);\n",
        " \n",
        "# Generates error\n",
        "print(\"d[2] = \", d[2]);"
      ],
      "execution_count": null,
      "outputs": [
        {
          "output_type": "stream",
          "text": [
            "<class 'dict'>\n",
            "d[1] =  value\n",
            "d['key'] =  2\n"
          ],
          "name": "stdout"
        },
        {
          "output_type": "error",
          "ename": "KeyError",
          "evalue": "ignored",
          "traceback": [
            "\u001b[0;31m---------------------------------------------------------------------------\u001b[0m",
            "\u001b[0;31mKeyError\u001b[0m                                  Traceback (most recent call last)",
            "\u001b[0;32m<ipython-input-40-fead54eee9a0>\u001b[0m in \u001b[0;36m<module>\u001b[0;34m()\u001b[0m\n\u001b[1;32m      7\u001b[0m \u001b[0;34m\u001b[0m\u001b[0m\n\u001b[1;32m      8\u001b[0m \u001b[0;31m# Generates error\u001b[0m\u001b[0;34m\u001b[0m\u001b[0;34m\u001b[0m\u001b[0;34m\u001b[0m\u001b[0m\n\u001b[0;32m----> 9\u001b[0;31m \u001b[0mprint\u001b[0m\u001b[0;34m(\u001b[0m\u001b[0;34m\"d[2] = \"\u001b[0m\u001b[0;34m,\u001b[0m \u001b[0md\u001b[0m\u001b[0;34m[\u001b[0m\u001b[0;36m2\u001b[0m\u001b[0;34m]\u001b[0m\u001b[0;34m)\u001b[0m\u001b[0;34m;\u001b[0m\u001b[0;34m\u001b[0m\u001b[0;34m\u001b[0m\u001b[0m\n\u001b[0m",
            "\u001b[0;31mKeyError\u001b[0m: 2"
          ]
        }
      ]
    },
    {
      "cell_type": "code",
      "metadata": {
        "colab": {
          "base_uri": "https://localhost:8080/"
        },
        "id": "jFeBfqmsc5SP",
        "outputId": "efe38e66-c9db-4eae-e971-81123b790a35"
      },
      "source": [
        "#Konversi (conversion, cast) antar tipe data\n",
        "#melakukan konversi tipe data bawaan dengan menggunakan fungsi konversi tipe bawaan (standard type) misalnya: int(), float(), str(), dll.\n",
        "\n",
        "print(float(5))"
      ],
      "execution_count": null,
      "outputs": [
        {
          "output_type": "stream",
          "text": [
            "5.0\n"
          ],
          "name": "stdout"
        }
      ]
    },
    {
      "cell_type": "code",
      "metadata": {
        "colab": {
          "base_uri": "https://localhost:8080/"
        },
        "id": "DMI2kmI_dDB7",
        "outputId": "b5cbc1fd-33e7-4b59-ef49-8dd72055cd7a"
      },
      "source": [
        "#Konversi float ke int akan bersifat floor/truncating atau menghilangkan nilai di belakang koma\n",
        "print(int(10.6))"
      ],
      "execution_count": null,
      "outputs": [
        {
          "output_type": "stream",
          "text": [
            "10\n"
          ],
          "name": "stdout"
        }
      ]
    },
    {
      "cell_type": "code",
      "metadata": {
        "colab": {
          "base_uri": "https://localhost:8080/"
        },
        "id": "z9Iz6au9dMWf",
        "outputId": "da1beac5-71e6-4a5c-d0c9-f497c16edc24"
      },
      "source": [
        "print(int(-10.6))"
      ],
      "execution_count": null,
      "outputs": [
        {
          "output_type": "stream",
          "text": [
            "-10\n"
          ],
          "name": "stdout"
        }
      ]
    },
    {
      "cell_type": "code",
      "metadata": {
        "colab": {
          "base_uri": "https://localhost:8080/"
        },
        "id": "su0AJjkjdPiy",
        "outputId": "5b7afc1b-12bb-47b8-f77e-f7515a14c574"
      },
      "source": [
        "# Konversi dari-dan-ke string akan melalui pengujian dan dipastikan validitasnya.\n",
        "print(float('2.5'))"
      ],
      "execution_count": null,
      "outputs": [
        {
          "output_type": "stream",
          "text": [
            "2.5\n"
          ],
          "name": "stdout"
        }
      ]
    },
    {
      "cell_type": "code",
      "metadata": {
        "colab": {
          "base_uri": "https://localhost:8080/"
        },
        "id": "KAq7uJxodWTK",
        "outputId": "af0aae68-b88f-4183-d741-5a3aeabbe1d3"
      },
      "source": [
        "print(str(25))"
      ],
      "execution_count": null,
      "outputs": [
        {
          "output_type": "stream",
          "text": [
            "25\n"
          ],
          "name": "stdout"
        }
      ]
    },
    {
      "cell_type": "code",
      "metadata": {
        "colab": {
          "base_uri": "https://localhost:8080/"
        },
        "id": "xqrgUizidiwt",
        "outputId": "6b2d77b6-782e-40f6-9aab-794063c22883"
      },
      "source": [
        "#konversi kumpulan data (set, list, tuple)\n",
        "print(set([1,2,3]))"
      ],
      "execution_count": null,
      "outputs": [
        {
          "output_type": "stream",
          "text": [
            "{1, 2, 3}\n"
          ],
          "name": "stdout"
        }
      ]
    },
    {
      "cell_type": "code",
      "metadata": {
        "colab": {
          "base_uri": "https://localhost:8080/"
        },
        "id": "JKkXyKQbdmTS",
        "outputId": "4d458246-3a17-4360-fbd9-eea623a68add"
      },
      "source": [
        "print(tuple({5,6,7}))"
      ],
      "execution_count": null,
      "outputs": [
        {
          "output_type": "stream",
          "text": [
            "(5, 6, 7)\n"
          ],
          "name": "stdout"
        }
      ]
    },
    {
      "cell_type": "code",
      "metadata": {
        "colab": {
          "base_uri": "https://localhost:8080/"
        },
        "id": "bBvU112ZdoS6",
        "outputId": "938820b9-5988-4d61-c63a-f1052ab420ba"
      },
      "source": [
        "print(list('hello'))"
      ],
      "execution_count": null,
      "outputs": [
        {
          "output_type": "stream",
          "text": [
            "['h', 'e', 'l', 'l', 'o']\n"
          ],
          "name": "stdout"
        }
      ]
    },
    {
      "cell_type": "code",
      "metadata": {
        "colab": {
          "base_uri": "https://localhost:8080/"
        },
        "id": "bx4esjuzdv6b",
        "outputId": "44c3f735-1e1e-444d-ac56-c8e4f803e116"
      },
      "source": [
        "# Untuk konversi ke dictionary, data harus memenuhi persyaratan key-value\n",
        "print(dict([[1,2],[3,4]]))"
      ],
      "execution_count": null,
      "outputs": [
        {
          "output_type": "stream",
          "text": [
            "{1: 2, 3: 4}\n"
          ],
          "name": "stdout"
        }
      ]
    },
    {
      "cell_type": "code",
      "metadata": {
        "colab": {
          "base_uri": "https://localhost:8080/"
        },
        "id": "9FNd4Nq2d2Eg",
        "outputId": "e4c73a7a-04f2-4b1f-c685-f335f1e7501f"
      },
      "source": [
        "print(dict([(3,26),(4,44)]))"
      ],
      "execution_count": null,
      "outputs": [
        {
          "output_type": "stream",
          "text": [
            "{3: 26, 4: 44}\n"
          ],
          "name": "stdout"
        }
      ]
    },
    {
      "cell_type": "markdown",
      "metadata": {
        "id": "QrHx6QIseC2i"
      },
      "source": [
        "# Input/Output pada Python"
      ]
    },
    {
      "cell_type": "markdown",
      "metadata": {
        "id": "tCN2Ul4ahI8q"
      },
      "source": [
        "**Output**"
      ]
    },
    {
      "cell_type": "code",
      "metadata": {
        "colab": {
          "base_uri": "https://localhost:8080/"
        },
        "id": "fREFZwRKeF-_",
        "outputId": "44ba96ed-701e-4fd4-c0b3-9396990c6692"
      },
      "source": [
        "# fungsi print() adalah cara output langsung ke konsol/layar.\n",
        "print(\"Hello, World!\")"
      ],
      "execution_count": null,
      "outputs": [
        {
          "output_type": "stream",
          "text": [
            "Hello, World!\n"
          ],
          "name": "stdout"
        }
      ]
    },
    {
      "cell_type": "code",
      "metadata": {
        "colab": {
          "base_uri": "https://localhost:8080/"
        },
        "id": "UmxKPUuBeaTr",
        "outputId": "a94bcc06-e735-414c-83a3-9c28f1b78508"
      },
      "source": [
        "# Memasukkan nilai variabel pada string\n",
        "x = 100\n",
        "print('Nilai x adalah', x)"
      ],
      "execution_count": null,
      "outputs": [
        {
          "output_type": "stream",
          "text": [
            "Nilai x adalah 100\n"
          ],
          "name": "stdout"
        }
      ]
    },
    {
      "cell_type": "code",
      "metadata": {
        "colab": {
          "base_uri": "https://localhost:8080/"
        },
        "id": "BpKrs-gyfaJW",
        "outputId": "2445b00d-cf79-4953-883e-c25930e8e1f6"
      },
      "source": [
        "# menampilkan text (string), bisa menggunakan mekanisme string format\n",
        "print('hai {}'.format('bro'))"
      ],
      "execution_count": null,
      "outputs": [
        {
          "output_type": "stream",
          "text": [
            "hai bro\n"
          ],
          "name": "stdout"
        }
      ]
    },
    {
      "cell_type": "code",
      "metadata": {
        "colab": {
          "base_uri": "https://localhost:8080/"
        },
        "id": "udH-MX-Xfezh",
        "outputId": "e9c35051-852f-43f2-d7c3-0e60511b941e"
      },
      "source": [
        "# menggunakan operator “%” yang ditambahkan dengan \"argument specifiers\", misalnya \"%s\" and \"%d\".\n",
        "nama = \"Evi Novita\"\n",
        "print(\"Halo, %s!\" % nama)"
      ],
      "execution_count": null,
      "outputs": [
        {
          "output_type": "stream",
          "text": [
            "Halo, Evi Novita!\n"
          ],
          "name": "stdout"
        }
      ]
    },
    {
      "cell_type": "code",
      "metadata": {
        "colab": {
          "base_uri": "https://localhost:8080/"
        },
        "id": "pKJUNYWKfsd-",
        "outputId": "3ea9719d-2a99-4246-8a98-a916012ab055"
      },
      "source": [
        "# menambahkan string dan integer\n",
        "nama = \"Ku\"\n",
        "umur = 5\n",
        "print(\"Umur %s adalah %d tahun.\" % (nama, umur))"
      ],
      "execution_count": null,
      "outputs": [
        {
          "output_type": "stream",
          "text": [
            "Umur Ku adalah 5 tahun.\n"
          ],
          "name": "stdout"
        }
      ]
    },
    {
      "cell_type": "code",
      "metadata": {
        "colab": {
          "base_uri": "https://localhost:8080/"
        },
        "id": "cKOzEKOmgq7s",
        "outputId": "72cff911-66ad-4a00-d732-87479b4bd810"
      },
      "source": [
        "# menambahkan objek selain string (otomatis dikonversi)\n",
        "angka = [7, 9, 11, 13]\n",
        "print(\"Angka saya: %s\" % angka)"
      ],
      "execution_count": null,
      "outputs": [
        {
          "output_type": "stream",
          "text": [
            "Angka saya: [7, 9, 11, 13]\n"
          ],
          "name": "stdout"
        }
      ]
    },
    {
      "cell_type": "code",
      "metadata": {
        "id": "mGA0Fp6YgzBZ"
      },
      "source": [
        "# Beberapa argument specifier yang umum digunakan\n",
        "%s - String\n",
        "%d - Integers\n",
        "%f - Bilangan Desimal\n",
        "%.<digit>f - Bilangan desimal dengan sejumlah digit angka dibelakang koma.\n",
        "%x/%X - Bilangan bulat dalam representasi Hexa (huruf kecil/huruf besar)"
      ],
      "execution_count": null,
      "outputs": []
    },
    {
      "cell_type": "code",
      "metadata": {
        "colab": {
          "base_uri": "https://localhost:8080/"
        },
        "id": "0h20KHOVg8A8",
        "outputId": "20fe1934-38d7-4606-937e-a1ef9e2ab3b0"
      },
      "source": [
        "# representasi Hexa (bilangan basis 16)\n",
        "a, b = 10, 11\n",
        "a, b\n",
        "print('a: %x and b: %X' % (a, b))"
      ],
      "execution_count": null,
      "outputs": [
        {
          "output_type": "stream",
          "text": [
            "a: a and b: B\n"
          ],
          "name": "stdout"
        }
      ]
    },
    {
      "cell_type": "markdown",
      "metadata": {
        "id": "BnMCQQGqhL4M"
      },
      "source": [
        "**Input**\n",
        "\n",
        "Untuk memungkinkan user memberikan input pada program, gunakan fungsi input(), dengan argumen dalam kurung () adalah teks yang ingin ditampilkan (prompt) dan variabel sebelum tanda sama dengan (=) adalah penampung hasil dari input pengguna:"
      ]
    },
    {
      "cell_type": "code",
      "metadata": {
        "colab": {
          "base_uri": "https://localhost:8080/"
        },
        "id": "hBkvzp5yhaEe",
        "outputId": "f2a75322-b845-457b-cb33-91e320cc33f4"
      },
      "source": [
        "nilai = input('Masukkan angka : ')\n",
        "print(nilai)"
      ],
      "execution_count": null,
      "outputs": [
        {
          "output_type": "stream",
          "text": [
            "Masukkan angka : 90\n",
            "90\n"
          ],
          "name": "stdout"
        }
      ]
    },
    {
      "cell_type": "code",
      "metadata": {
        "colab": {
          "base_uri": "https://localhost:8080/"
        },
        "id": "TiYlQWymhd7E",
        "outputId": "9429e411-5638-4182-9980-02a2eee7a051"
      },
      "source": [
        "print(int(nilai))"
      ],
      "execution_count": null,
      "outputs": [
        {
          "output_type": "stream",
          "text": [
            "90\n"
          ],
          "name": "stdout"
        }
      ]
    },
    {
      "cell_type": "code",
      "metadata": {
        "colab": {
          "base_uri": "https://localhost:8080/"
        },
        "id": "rL_RfZK4htV8",
        "outputId": "ad9d4df4-fe86-4d6b-a866-40263e45cbd7"
      },
      "source": [
        "print(float(nilai))"
      ],
      "execution_count": null,
      "outputs": [
        {
          "output_type": "stream",
          "text": [
            "90.0\n"
          ],
          "name": "stdout"
        }
      ]
    },
    {
      "cell_type": "markdown",
      "metadata": {
        "id": "P7t-eFv5h7Wc"
      },
      "source": [
        "**Command-line arguments**\n",
        "\n"
      ]
    },
    {
      "cell_type": "code",
      "metadata": {
        "colab": {
          "base_uri": "https://localhost:8080/"
        },
        "id": "jlpyzcI0htbb",
        "outputId": "5c4f836d-3b81-4e11-a74e-7ce9989d9069"
      },
      "source": [
        "import sys\n",
        "print('Jumlah arguments:', len(sys.argv), 'arguments.')\n",
        "print('Argument List:', str(sys.argv))\n",
        "print(sys.argv[1])"
      ],
      "execution_count": null,
      "outputs": [
        {
          "output_type": "stream",
          "text": [
            "Jumlah arguments: 3 arguments.\n",
            "Argument List: ['/usr/local/lib/python3.7/dist-packages/ipykernel_launcher.py', '-f', '/root/.local/share/jupyter/runtime/kernel-0c73532c-fea5-422d-ad29-0d29765c3458.json']\n",
            "-f\n"
          ],
          "name": "stdout"
        }
      ]
    },
    {
      "cell_type": "markdown",
      "metadata": {
        "id": "RUDdwUq9iT0h"
      },
      "source": [
        "#**Dynamic Typing pada Python**"
      ]
    },
    {
      "cell_type": "code",
      "metadata": {
        "colab": {
          "base_uri": "https://localhost:8080/"
        },
        "id": "NXy6VRNtiGZO",
        "outputId": "d8c6f2bf-ca10-4271-ca0d-911e2d6ea537"
      },
      "source": [
        "# Ketika kita memberikan nilai 6 pada variabel x\n",
        "x = 6  \n",
        "print(type(x))\n",
        "# Kemudian Berikan string “hello” pada variabel x di baris selanjutnya\n",
        "x = 'hello'\n",
        "print(type(x))"
      ],
      "execution_count": null,
      "outputs": [
        {
          "output_type": "stream",
          "text": [
            "<class 'int'>\n",
            "<class 'str'>\n"
          ],
          "name": "stdout"
        }
      ]
    },
    {
      "cell_type": "code",
      "metadata": {
        "id": "miqvmLJjibQK"
      },
      "source": [
        "if False:\n",
        "    9 + \"satu\"  # Baris ini tidak dioperasikan, sehingga tidak muncul notifikasi TypeError\n",
        "else:\n",
        "    9 + 1"
      ],
      "execution_count": null,
      "outputs": []
    },
    {
      "cell_type": "markdown",
      "metadata": {
        "id": "KoVoX_mKnG1V"
      },
      "source": [
        "#**Transformasi Angka, Karakter dan String**"
      ]
    },
    {
      "cell_type": "markdown",
      "metadata": {
        "id": "4gq-pRCongEP"
      },
      "source": [
        "Upper()\n",
        "\n",
        "Metode upper() dapat digunakan untuk mengonversi karakter atau string dari huruf kecil ke huruf besar. Namun, jika huruf asalnya adalah huruf besar, maka huruf tersebut tidak berubah."
      ]
    },
    {
      "cell_type": "code",
      "metadata": {
        "colab": {
          "base_uri": "https://localhost:8080/"
        },
        "id": "InfQcyGPigxf",
        "outputId": "52b2e0bb-ac8d-4f36-d6e7-03b477c9fe11"
      },
      "source": [
        "kata = 'evi'\n",
        "kata = kata.upper()\n",
        "print(kata)"
      ],
      "execution_count": null,
      "outputs": [
        {
          "output_type": "stream",
          "text": [
            "EVI\n"
          ],
          "name": "stdout"
        }
      ]
    },
    {
      "cell_type": "markdown",
      "metadata": {
        "id": "shlZQ-lvn180"
      },
      "source": [
        "lower()\n",
        "\n",
        "kebalikan dari upper() yang dapat mengonversi karakter atau string dari huruf besar ke huruf kecil. Namun jika huruf asalnya adalah huruf kecil, maka huruf tersebut tidak berubah."
      ]
    },
    {
      "cell_type": "code",
      "metadata": {
        "colab": {
          "base_uri": "https://localhost:8080/"
        },
        "id": "FhEN_iVsoA6l",
        "outputId": "7990fcba-e111-485c-84b7-9e2fe68a25b1"
      },
      "source": [
        "kata = 'EVI'\n",
        "kata = kata.lower()\n",
        "print(kata)"
      ],
      "execution_count": null,
      "outputs": [
        {
          "output_type": "stream",
          "text": [
            "evi\n"
          ],
          "name": "stdout"
        }
      ]
    },
    {
      "cell_type": "markdown",
      "metadata": {
        "id": "ANY_aIVroTrz"
      },
      "source": [
        "rstrip()\n",
        "\n",
        "Metode ini akan menghapus whitespace pada sebelah kanan string atau akhir string"
      ]
    },
    {
      "cell_type": "code",
      "metadata": {
        "colab": {
          "base_uri": "https://localhost:8080/"
        },
        "id": "10AlSzX9oN5l",
        "outputId": "ef2dc94c-f7df-4661-d909-a9f52847df9a"
      },
      "source": [
        "print('Kucing    '.rstrip())"
      ],
      "execution_count": null,
      "outputs": [
        {
          "output_type": "stream",
          "text": [
            "Kucing\n"
          ],
          "name": "stdout"
        }
      ]
    },
    {
      "cell_type": "markdown",
      "metadata": {
        "id": "tmDytCzKom2E"
      },
      "source": [
        "lstrip()\n",
        "\n",
        "menghapus whitespace pada sebelah kiri atau awal string."
      ]
    },
    {
      "cell_type": "code",
      "metadata": {
        "colab": {
          "base_uri": "https://localhost:8080/"
        },
        "id": "LQRsAJzrojM3",
        "outputId": "687158aa-8dd2-4965-fd72-9d80d5d57f4d"
      },
      "source": [
        "print('    Kucing'.lstrip())"
      ],
      "execution_count": null,
      "outputs": [
        {
          "output_type": "stream",
          "text": [
            "Kucing\n"
          ],
          "name": "stdout"
        }
      ]
    },
    {
      "cell_type": "markdown",
      "metadata": {
        "id": "CL2NSC0zo1Le"
      },
      "source": [
        "strip()\n",
        "\n",
        "Metode strip() akan menghapus whitespace pada bagian awal atau akhir string"
      ]
    },
    {
      "cell_type": "code",
      "metadata": {
        "colab": {
          "base_uri": "https://localhost:8080/"
        },
        "id": "hB0k1P7goyEK",
        "outputId": "917df7f7-822f-45cf-f3ec-6f64f4517e8d"
      },
      "source": [
        "print('    Kucing    '.strip())"
      ],
      "execution_count": null,
      "outputs": [
        {
          "output_type": "stream",
          "text": [
            "Kucing\n"
          ],
          "name": "stdout"
        }
      ]
    },
    {
      "cell_type": "code",
      "metadata": {
        "colab": {
          "base_uri": "https://localhost:8080/"
        },
        "id": "NLK91GtXpBEs",
        "outputId": "c9ab75e5-e6e3-4d0a-ee9a-2cec5fffaf8c"
      },
      "source": [
        "#menentukan mana karakter atau bagian yang ingin dihilangkan\n",
        "kata = 'CodeCodeKucingCodeCode'\n",
        "print(kata.strip('Code'))"
      ],
      "execution_count": null,
      "outputs": [
        {
          "output_type": "stream",
          "text": [
            "Kucing\n"
          ],
          "name": "stdout"
        }
      ]
    },
    {
      "cell_type": "markdown",
      "metadata": {
        "id": "iLYxkh5HpiI-"
      },
      "source": [
        "startswith()\n",
        "\n",
        "Metode startswith() akan mengembalikan nilai True jika string diawali dengan kata awalan tertentu yang kita inginkan, jika tidak maka akan mengembalikan nilai False."
      ]
    },
    {
      "cell_type": "code",
      "metadata": {
        "colab": {
          "base_uri": "https://localhost:8080/"
        },
        "id": "xpLfQPWYpmrp",
        "outputId": "f1870118-e95f-45f9-8140-cd6d3902b745"
      },
      "source": [
        "print('Hallo Indonesia'.startswith('Hallo'))"
      ],
      "execution_count": null,
      "outputs": [
        {
          "output_type": "stream",
          "text": [
            "True\n"
          ],
          "name": "stdout"
        }
      ]
    },
    {
      "cell_type": "markdown",
      "metadata": {
        "id": "q_cnu8sQp2b3"
      },
      "source": [
        "endswith()\n",
        "\n",
        "endswith() ini kebalikannya dari metode startswith(), metode ini akan mengembalikan nilai True jika string diakhiri dengan kata akhiran tertentu yang kita inginkan, jika tidak maka akan mengembalikan nilai False. "
      ]
    },
    {
      "cell_type": "code",
      "metadata": {
        "colab": {
          "base_uri": "https://localhost:8080/"
        },
        "id": "gYL-eFWYp8bZ",
        "outputId": "3e4b271a-dde0-4386-c37d-3a9d0ada71f4"
      },
      "source": [
        "print('Hallo Indonesia'.endswith('Indonesia'))"
      ],
      "execution_count": null,
      "outputs": [
        {
          "output_type": "stream",
          "text": [
            "True\n"
          ],
          "name": "stdout"
        }
      ]
    },
    {
      "cell_type": "markdown",
      "metadata": {
        "id": "UjW--dFlFiOS"
      },
      "source": [
        "Memisah dan Menggabung String"
      ]
    },
    {
      "cell_type": "markdown",
      "metadata": {
        "id": "PtjAW-rrFli0"
      },
      "source": [
        "join()\n",
        "\n",
        "join() adalah metode yang dipakai untuk menggabungkan sejumlah string"
      ]
    },
    {
      "cell_type": "code",
      "metadata": {
        "colab": {
          "base_uri": "https://localhost:8080/"
        },
        "id": "nnWEevjXWUfQ",
        "outputId": "384fa647-225a-42d2-8efb-514acd2eef17"
      },
      "source": [
        " print(' '.join(['Hallo', 'Indonesia', '!']))"
      ],
      "execution_count": null,
      "outputs": [
        {
          "output_type": "stream",
          "text": [
            "Hallo Indonesia !\n"
          ],
          "name": "stdout"
        }
      ]
    },
    {
      "cell_type": "code",
      "metadata": {
        "colab": {
          "base_uri": "https://localhost:8080/"
        },
        "id": "CnCv71eyWZ1C",
        "outputId": "33f83af7-068c-41a8-e729-e8d15ce80cd4"
      },
      "source": [
        "print('123'.join(['Hallo', 'Indonesia', '!']))"
      ],
      "execution_count": null,
      "outputs": [
        {
          "output_type": "stream",
          "text": [
            "Hallo123Indonesia123!\n"
          ],
          "name": "stdout"
        }
      ]
    },
    {
      "cell_type": "markdown",
      "metadata": {
        "id": "lrfj0O2OWlDJ"
      },
      "source": [
        "split()\n",
        "\n",
        "split() adalah metode yang memisahkan substring berdasarkan delimiter tertentu (defaultnya adalah whitespace, tab, atau newline)."
      ]
    },
    {
      "cell_type": "code",
      "metadata": {
        "colab": {
          "base_uri": "https://localhost:8080/"
        },
        "id": "e4kz4qOGWppn",
        "outputId": "c246ec08-80bd-417a-d922-eb086b8fbd5a"
      },
      "source": [
        "print('Hallo Indonesia !'.split())"
      ],
      "execution_count": null,
      "outputs": [
        {
          "output_type": "stream",
          "text": [
            "['Hallo', 'Indonesia', '!']\n"
          ],
          "name": "stdout"
        }
      ]
    },
    {
      "cell_type": "code",
      "metadata": {
        "colab": {
          "base_uri": "https://localhost:8080/"
        },
        "id": "Sd2ABvvxWwHw",
        "outputId": "8a965ad8-8948-4ce1-ac72-35c58f167e25"
      },
      "source": [
        "#mengubah parameter split (delimiter)\n",
        "print('Hallo123Indonesia123!'.split('123'))"
      ],
      "execution_count": null,
      "outputs": [
        {
          "output_type": "stream",
          "text": [
            "['Hallo', 'Indonesia', '!']\n"
          ],
          "name": "stdout"
        }
      ]
    },
    {
      "cell_type": "code",
      "metadata": {
        "colab": {
          "base_uri": "https://localhost:8080/"
        },
        "id": "xrpScq9nW_5r",
        "outputId": "3d8090af-f9aa-4fa5-9d6e-13592bdf471b"
      },
      "source": [
        "#menggunakan metode split() ini untuk memisahkan setiap baris pada string multiline:\n",
        "\n",
        "print('''Halo,\n",
        "aku ikan,\n",
        "aku suka sekali menyelam\n",
        "aku tinggal di perairan.\n",
        "Badanku licin dan renangku cepat.\n",
        "Senang berkenalan denganmu.'''.split('\\n'))"
      ],
      "execution_count": null,
      "outputs": [
        {
          "output_type": "stream",
          "text": [
            "['Halo,', 'aku ikan,', 'aku suka sekali menyelam', 'aku tinggal di perairan.', 'Badanku licin dan renangku cepat.', 'Senang berkenalan denganmu.']\n"
          ],
          "name": "stdout"
        }
      ]
    },
    {
      "cell_type": "markdown",
      "metadata": {
        "id": "-x57f9U3XGxT"
      },
      "source": [
        "#**Mengganti Elemen String**"
      ]
    },
    {
      "cell_type": "markdown",
      "metadata": {
        "id": "pYK_SE9HXIej"
      },
      "source": [
        "replace()\n",
        "\n",
        "replace() dapat mengembalikan string baru dalam kondisi substring telah tergantikan dengan parameter yang dimasukkan"
      ]
    },
    {
      "cell_type": "code",
      "metadata": {
        "colab": {
          "base_uri": "https://localhost:8080/"
        },
        "id": "FuvMhhOAXMzH",
        "outputId": "2fbc8e95-011f-458f-fdd0-05f11ae9bd7a"
      },
      "source": [
        "string = \"Ayo belajar Coding \"\n",
        "print(string.replace(\"Coding\", \"Pemrograman\"))"
      ],
      "execution_count": null,
      "outputs": [
        {
          "output_type": "stream",
          "text": [
            "Ayo belajar Pemrograman \n"
          ],
          "name": "stdout"
        }
      ]
    },
    {
      "cell_type": "code",
      "metadata": {
        "colab": {
          "base_uri": "https://localhost:8080/"
        },
        "id": "3FPi3CX-XbmH",
        "outputId": "3fd8da47-4bdd-4c74-e0d3-ebae88b5ef9b"
      },
      "source": [
        "# Opsional: Parameter ketiga pada replace dapat diisi jumlah substring yang ingin diganti\n",
        "\n",
        "string = \"Ayo belajar Coding karena Coding adalah bahasa masa depan\"\n",
        "print(string.replace(\"Coding\", \"Pemrograman\", 1))"
      ],
      "execution_count": null,
      "outputs": [
        {
          "output_type": "stream",
          "text": [
            "Ayo belajar Pemrograman karena Coding adalah bahasa masa depan\n"
          ],
          "name": "stdout"
        }
      ]
    },
    {
      "cell_type": "markdown",
      "metadata": {
        "id": "6UkcaF57Xwnj"
      },
      "source": [
        "#**Pengecekan String**\n",
        "\n",
        "kategori pengecekan string di lakukan untuk mengecek boolean dari sebuah string"
      ]
    },
    {
      "cell_type": "markdown",
      "metadata": {
        "id": "F9TjPDy8XyJW"
      },
      "source": [
        "isupper()\n",
        "\n",
        "isupper() akan mengembalikan nilai True jika semua huruf dalam string adalah huruf besar, dan akan mengembalikan nilai False jika terdapat satu saja huruf kecil di dalam string tersebut."
      ]
    },
    {
      "cell_type": "code",
      "metadata": {
        "colab": {
          "base_uri": "https://localhost:8080/"
        },
        "id": "cwtq8TnbYHxL",
        "outputId": "ac7a360d-1a89-470b-a2d5-f3f199f02f01"
      },
      "source": [
        "kata = 'HALLO'\n",
        "kata.isupper()"
      ],
      "execution_count": null,
      "outputs": [
        {
          "output_type": "execute_result",
          "data": {
            "text/plain": [
              "True"
            ]
          },
          "metadata": {
            "tags": []
          },
          "execution_count": 90
        }
      ]
    },
    {
      "cell_type": "code",
      "metadata": {
        "colab": {
          "base_uri": "https://localhost:8080/"
        },
        "id": "jq6M8ke3YgBR",
        "outputId": "fc5c1d09-5e7a-4156-e32f-e66bacbd917a"
      },
      "source": [
        "kata = 'Hallo'\n",
        "kata.isupper()"
      ],
      "execution_count": null,
      "outputs": [
        {
          "output_type": "execute_result",
          "data": {
            "text/plain": [
              "False"
            ]
          },
          "metadata": {
            "tags": []
          },
          "execution_count": 91
        }
      ]
    },
    {
      "cell_type": "markdown",
      "metadata": {
        "id": "CLQf5pHOYnX0"
      },
      "source": [
        "islower()\n",
        "\n",
        "metode ini akan mengembalikan nilai True jika semua huruf dalam string adalah huruf kecil, dan akan mengembalikan nilai False jika terdapat satu saja huruf besar di dalam string tersebut."
      ]
    },
    {
      "cell_type": "code",
      "metadata": {
        "colab": {
          "base_uri": "https://localhost:8080/"
        },
        "id": "iC6sjSLYYsfI",
        "outputId": "d5e6a262-8390-4d42-e230-16d68cd62201"
      },
      "source": [
        "kata = 'hallo'\n",
        "kata.islower()"
      ],
      "execution_count": null,
      "outputs": [
        {
          "output_type": "execute_result",
          "data": {
            "text/plain": [
              "True"
            ]
          },
          "metadata": {
            "tags": []
          },
          "execution_count": 92
        }
      ]
    },
    {
      "cell_type": "code",
      "metadata": {
        "colab": {
          "base_uri": "https://localhost:8080/"
        },
        "id": "3o0DZNa0Yyfc",
        "outputId": "a9c1b076-846b-4c01-e000-5e590311a0ca"
      },
      "source": [
        "kata = 'Hallo'\n",
        "kata.islower()"
      ],
      "execution_count": null,
      "outputs": [
        {
          "output_type": "execute_result",
          "data": {
            "text/plain": [
              "False"
            ]
          },
          "metadata": {
            "tags": []
          },
          "execution_count": 93
        }
      ]
    },
    {
      "cell_type": "code",
      "metadata": {
        "colab": {
          "base_uri": "https://localhost:8080/"
        },
        "id": "KwBUocRDY-V1",
        "outputId": "4cd328d8-0759-45f5-c8f9-1101174ccca7"
      },
      "source": [
        "print('Hallo'.upper().lower())\n",
        "print('Hallo'.lower().upper())\n",
        "print('HALLO'.upper().lower().islower())\n",
        "print('HALLO'.upper().lower().isupper())"
      ],
      "execution_count": null,
      "outputs": [
        {
          "output_type": "stream",
          "text": [
            "hallo\n",
            "HALLO\n",
            "True\n",
            "False\n"
          ],
          "name": "stdout"
        }
      ]
    },
    {
      "cell_type": "markdown",
      "metadata": {
        "id": "ZjYwps6_ZLQp"
      },
      "source": [
        "isalpha()\n",
        "\n",
        "Metode ini akan mengembalikan nilai True jika semua karakter dalam string adalah huruf alfabet, jika tidak maka akan mengembalikan nilai False."
      ]
    },
    {
      "cell_type": "code",
      "metadata": {
        "colab": {
          "base_uri": "https://localhost:8080/"
        },
        "id": "mj8oTLwAZP9j",
        "outputId": "b41c671c-84db-4b00-a7d2-d7b384f038b9"
      },
      "source": [
        "'hallo'.isalpha()"
      ],
      "execution_count": null,
      "outputs": [
        {
          "output_type": "execute_result",
          "data": {
            "text/plain": [
              "True"
            ]
          },
          "metadata": {
            "tags": []
          },
          "execution_count": 95
        }
      ]
    },
    {
      "cell_type": "markdown",
      "metadata": {
        "id": "o-7pvZAaZYZM"
      },
      "source": [
        "isalnum() \n",
        "\n",
        "Metode ini akan mengembalikan nilai True jika karakter dalam string adalah alfanumerik yaitu hanya huruf atau hanya angka atau berisi keduanya, jika tidak maka akan mengembalikan nilai False."
      ]
    },
    {
      "cell_type": "code",
      "metadata": {
        "colab": {
          "base_uri": "https://localhost:8080/"
        },
        "id": "Es-GoCoxZuKx",
        "outputId": "9b14197b-9ee3-45a4-ef8f-c3689ac9d1f6"
      },
      "source": [
        "'hallo123'.isalnum()"
      ],
      "execution_count": null,
      "outputs": [
        {
          "output_type": "execute_result",
          "data": {
            "text/plain": [
              "True"
            ]
          },
          "metadata": {
            "tags": []
          },
          "execution_count": 96
        }
      ]
    },
    {
      "cell_type": "markdown",
      "metadata": {
        "id": "Rz6i7BKaZ7y1"
      },
      "source": [
        "isdecimal()\n",
        "\n",
        "Metode ini akan mengembalikan nilai True jika karakter dalam string berisi hanya angka/numerik, jika tidak maka akan mengembalikan nilai False."
      ]
    },
    {
      "cell_type": "code",
      "metadata": {
        "colab": {
          "base_uri": "https://localhost:8080/"
        },
        "id": "qi96TIp3ZWj_",
        "outputId": "98a5e902-f08a-40b2-90ed-fbdc32022931"
      },
      "source": [
        "'12345'.isdecimal()"
      ],
      "execution_count": null,
      "outputs": [
        {
          "output_type": "execute_result",
          "data": {
            "text/plain": [
              "True"
            ]
          },
          "metadata": {
            "tags": []
          },
          "execution_count": 97
        }
      ]
    },
    {
      "cell_type": "markdown",
      "metadata": {
        "id": "55Q7wwJfaJnM"
      },
      "source": [
        "isspace()\n",
        "\n",
        "Metode ini akan mengembalikan nilai True jika string berisi hanya karakter whitespace, seperti spasi, tab, newline, atau karakter whitespaces lainnya, jika tidak maka akan mengembalikan nilai False."
      ]
    },
    {
      "cell_type": "code",
      "metadata": {
        "colab": {
          "base_uri": "https://localhost:8080/"
        },
        "id": "ajM6H12jaN3x",
        "outputId": "6144a835-f070-4266-ca35-28487a4f392e"
      },
      "source": [
        "'   '.isspace()"
      ],
      "execution_count": null,
      "outputs": [
        {
          "output_type": "execute_result",
          "data": {
            "text/plain": [
              "True"
            ]
          },
          "metadata": {
            "tags": []
          },
          "execution_count": 98
        }
      ]
    },
    {
      "cell_type": "markdown",
      "metadata": {
        "id": "hw0KfeN0aXb-"
      },
      "source": [
        "istitle()\n",
        "\n",
        "Metode ini akan mengembalikan True jika string berisi huruf kapital di setiap kata dan dilanjutkan dengan huruf kecil seterusnya, jika tidak maka akan mengembalikan nilai False."
      ]
    },
    {
      "cell_type": "code",
      "metadata": {
        "colab": {
          "base_uri": "https://localhost:8080/"
        },
        "id": "yoKGxqRraa9S",
        "outputId": "1bd8a8b2-052c-46a3-eaca-134551dc88e1"
      },
      "source": [
        "'Hallo Indonesia'.istitle()"
      ],
      "execution_count": null,
      "outputs": [
        {
          "output_type": "execute_result",
          "data": {
            "text/plain": [
              "True"
            ]
          },
          "metadata": {
            "tags": []
          },
          "execution_count": 99
        }
      ]
    },
    {
      "cell_type": "code",
      "metadata": {
        "colab": {
          "base_uri": "https://localhost:8080/"
        },
        "id": "6--TLIkPattM",
        "outputId": "89bc6767-7166-4f3d-c318-497f76b13195"
      },
      "source": [
        "# metode validasi input user\n",
        "while True:\n",
        "    print('Masukkan nama Anda:')\n",
        "    name = input()\n",
        "    if name.isalpha():\n",
        "        print(\"Halo\", name)\n",
        "        break\n",
        "    print('Masukkan nama Anda dengan benar.')"
      ],
      "execution_count": null,
      "outputs": [
        {
          "output_type": "stream",
          "text": [
            "Masukkan nama Anda:\n",
            "Evi\n",
            "Halo Evi\n"
          ],
          "name": "stdout"
        }
      ]
    },
    {
      "cell_type": "markdown",
      "metadata": {
        "id": "DshORi0mbEXB"
      },
      "source": [
        "#**Formatting pada String**"
      ]
    },
    {
      "cell_type": "markdown",
      "metadata": {
        "id": "-TKgLI2qbF3F"
      },
      "source": [
        "zfill()\n",
        "\n",
        "metode yang dapat menambahkan nilai numerik berupa 0 di sebelah kiri sebuah angka atau string"
      ]
    },
    {
      "cell_type": "code",
      "metadata": {
        "colab": {
          "base_uri": "https://localhost:8080/"
        },
        "id": "qmsHyIbIb0BR",
        "outputId": "59f768ce-7732-4578-e2f5-ee6db19c605e"
      },
      "source": [
        "# Contoh 1: Penggunaan zfill 5 pada angka satuan\n",
        "angka = 5\n",
        "print (str(angka).zfill(5));\n",
        "# Contoh 2: Penggunaan zfill 5 pada angka ratusan\n",
        "angka = 300\n",
        "print (str(angka).zfill(5));\n",
        "# Contoh 3: Penggunaan zfill 5 pada angka desimal negatif (memiliki koma)\n",
        "angka = -0.45\n",
        "print (str(angka).zfill(5));\n",
        "# Contoh 4: Penggunaan zfill 7 pada angka desimal negatif (memiliki koma)\n",
        "angka = -0.45\n",
        "print (str(angka).zfill(7));"
      ],
      "execution_count": null,
      "outputs": [
        {
          "output_type": "stream",
          "text": [
            "00005\n",
            "00300\n",
            "-0.45\n",
            "-000.45\n"
          ],
          "name": "stdout"
        }
      ]
    },
    {
      "cell_type": "code",
      "metadata": {
        "colab": {
          "base_uri": "https://localhost:8080/"
        },
        "id": "LiOVNVPEb_Ve",
        "outputId": "f2419577-9c73-43e5-d334-096b2a08f252"
      },
      "source": [
        "#Penerapan zfill pada String\n",
        "# Contoh 1\n",
        "kata = 'aku'\n",
        "print (kata.zfill(5));\n",
        "# Contoh 2\n",
        "kata = 'kamu'\n",
        "print (kata.zfill(5));\n",
        "# Contoh 3\n",
        "kata = 'dirinya'\n",
        "print (kata.zfill(5));"
      ],
      "execution_count": null,
      "outputs": [
        {
          "output_type": "stream",
          "text": [
            "00aku\n",
            "0kamu\n",
            "dirinya\n"
          ],
          "name": "stdout"
        }
      ]
    },
    {
      "cell_type": "markdown",
      "metadata": {
        "id": "LMc9VGdWcJXC"
      },
      "source": [
        "#Teks rata kanan/kiri/tengah dengan rjust(), ljust(), dan center()"
      ]
    },
    {
      "cell_type": "markdown",
      "metadata": {
        "id": "R6vis6OjcNon"
      },
      "source": [
        "rjust()"
      ]
    },
    {
      "cell_type": "code",
      "metadata": {
        "colab": {
          "base_uri": "https://localhost:8080/",
          "height": 35
        },
        "id": "idcFHcarcR2W",
        "outputId": "41a269bd-52e2-4d75-e689-4ce4cd711129"
      },
      "source": [
        "'Hallo'.rjust(20)"
      ],
      "execution_count": null,
      "outputs": [
        {
          "output_type": "execute_result",
          "data": {
            "application/vnd.google.colaboratory.intrinsic+json": {
              "type": "string"
            },
            "text/plain": [
              "'               Hallo'"
            ]
          },
          "metadata": {
            "tags": []
          },
          "execution_count": 104
        }
      ]
    },
    {
      "cell_type": "markdown",
      "metadata": {
        "id": "Hi5ISlgicbny"
      },
      "source": [
        "ljust()\n",
        "\n"
      ]
    },
    {
      "cell_type": "code",
      "metadata": {
        "colab": {
          "base_uri": "https://localhost:8080/",
          "height": 35
        },
        "id": "r94GfavYceQh",
        "outputId": "68df765f-1c52-43da-8c98-f49237522513"
      },
      "source": [
        "'Hallo'.ljust(20)"
      ],
      "execution_count": null,
      "outputs": [
        {
          "output_type": "execute_result",
          "data": {
            "application/vnd.google.colaboratory.intrinsic+json": {
              "type": "string"
            },
            "text/plain": [
              "'Hallo               '"
            ]
          },
          "metadata": {
            "tags": []
          },
          "execution_count": 105
        }
      ]
    },
    {
      "cell_type": "code",
      "metadata": {
        "colab": {
          "base_uri": "https://localhost:8080/",
          "height": 35
        },
        "id": "8RWmRlM0cpYA",
        "outputId": "f72a0fd8-7127-42d8-abc3-53f9cb726121"
      },
      "source": [
        "'Hallo'.ljust(20, '!')"
      ],
      "execution_count": null,
      "outputs": [
        {
          "output_type": "execute_result",
          "data": {
            "application/vnd.google.colaboratory.intrinsic+json": {
              "type": "string"
            },
            "text/plain": [
              "'Hallo!!!!!!!!!!!!!!!'"
            ]
          },
          "metadata": {
            "tags": []
          },
          "execution_count": 106
        }
      ]
    },
    {
      "cell_type": "markdown",
      "metadata": {
        "id": "9nlejSQmcyKI"
      },
      "source": [
        "center()"
      ]
    },
    {
      "cell_type": "code",
      "metadata": {
        "colab": {
          "base_uri": "https://localhost:8080/",
          "height": 35
        },
        "id": "L-TEmCmxc1s-",
        "outputId": "da0bc07c-7740-48a2-c4c7-394414f213a8"
      },
      "source": [
        "'Hallo'.center(20)"
      ],
      "execution_count": null,
      "outputs": [
        {
          "output_type": "execute_result",
          "data": {
            "application/vnd.google.colaboratory.intrinsic+json": {
              "type": "string"
            },
            "text/plain": [
              "'       Hallo        '"
            ]
          },
          "metadata": {
            "tags": []
          },
          "execution_count": 107
        }
      ]
    },
    {
      "cell_type": "code",
      "metadata": {
        "colab": {
          "base_uri": "https://localhost:8080/",
          "height": 35
        },
        "id": "XHeb74Ysc7kU",
        "outputId": "440e6bb4-e866-471e-89f3-2dedabcd290d"
      },
      "source": [
        "'Hallo'.center(20, '-')"
      ],
      "execution_count": null,
      "outputs": [
        {
          "output_type": "execute_result",
          "data": {
            "application/vnd.google.colaboratory.intrinsic+json": {
              "type": "string"
            },
            "text/plain": [
              "'-------Hallo--------'"
            ]
          },
          "metadata": {
            "tags": []
          },
          "execution_count": 108
        }
      ]
    },
    {
      "cell_type": "markdown",
      "metadata": {
        "id": "4I64x-BqfEN2"
      },
      "source": [
        "#String Literals"
      ]
    },
    {
      "cell_type": "code",
      "metadata": {
        "colab": {
          "base_uri": "https://localhost:8080/",
          "height": 35
        },
        "id": "tH3qz7sFfEoM",
        "outputId": "54a023f1-6fda-4c87-efeb-bc3cb098c098"
      },
      "source": [
        "st1 = \"Jum’at\"\n",
        "st1"
      ],
      "execution_count": null,
      "outputs": [
        {
          "output_type": "execute_result",
          "data": {
            "application/vnd.google.colaboratory.intrinsic+json": {
              "type": "string"
            },
            "text/plain": [
              "'Jum’at'"
            ]
          },
          "metadata": {
            "tags": []
          },
          "execution_count": 111
        }
      ]
    },
    {
      "cell_type": "code",
      "metadata": {
        "colab": {
          "base_uri": "https://localhost:8080/",
          "height": 35
        },
        "id": "vHvg1FNjfLMK",
        "outputId": "bf472be5-b9b0-412c-c402-e1a25bcff5ed"
      },
      "source": [
        "st2 = 'Jum\\'at'\n",
        "st2"
      ],
      "execution_count": null,
      "outputs": [
        {
          "output_type": "execute_result",
          "data": {
            "application/vnd.google.colaboratory.intrinsic+json": {
              "type": "string"
            },
            "text/plain": [
              "\"Jum'at\""
            ]
          },
          "metadata": {
            "tags": []
          },
          "execution_count": 112
        }
      ]
    },
    {
      "cell_type": "code",
      "metadata": {
        "colab": {
          "base_uri": "https://localhost:8080/"
        },
        "id": "c9iXw8oTfdUm",
        "outputId": "ae0bef74-3d25-42e8-dcfb-616d3262a62e"
      },
      "source": [
        "print(\"Halo!\\nKapan terakhir kali kita bertemu?\\nKita bertemu hari Jum\\'at yang lalu.\")"
      ],
      "execution_count": null,
      "outputs": [
        {
          "output_type": "stream",
          "text": [
            "Halo!\n",
            "Kapan terakhir kali kita bertemu?\n",
            "Kita bertemu hari Jum'at yang lalu.\n"
          ],
          "name": "stdout"
        }
      ]
    },
    {
      "cell_type": "markdown",
      "metadata": {
        "id": "xI6Cj1xmfowm"
      },
      "source": [
        "#Raw Strings"
      ]
    },
    {
      "cell_type": "code",
      "metadata": {
        "colab": {
          "base_uri": "https://localhost:8080/"
        },
        "id": "hox8N2XrfqUT",
        "outputId": "12f7bea0-e5bb-468e-928f-5e973ed2e95a"
      },
      "source": [
        "print(r'Hallo\\tIndonesia')"
      ],
      "execution_count": null,
      "outputs": [
        {
          "output_type": "stream",
          "text": [
            "Hallo\\tIndonesia\n"
          ],
          "name": "stdout"
        }
      ]
    },
    {
      "cell_type": "markdown",
      "metadata": {
        "id": "Cjt2Bi4Bf-4-"
      },
      "source": [
        "#Operasi pada List, Set, dan String"
      ]
    },
    {
      "cell_type": "markdown",
      "metadata": {
        "id": "F-jHcJbtgGU5"
      },
      "source": [
        "len()\n",
        "\n",
        "yang akan menghitung panjang atau banyaknya elemen dari List (untuk String menjadi menghitung jumlah karakternya)."
      ]
    },
    {
      "cell_type": "code",
      "metadata": {
        "colab": {
          "base_uri": "https://localhost:8080/"
        },
        "id": "0VpuxeT0f5_h",
        "outputId": "bd3a83f4-9acb-4c6a-f3e9-76c78eab33a0"
      },
      "source": [
        "contoh_list = [1, 3, 3, 5, 5, 5, 7, 7, 9]\n",
        "print(contoh_list)\n",
        "print(len(contoh_list))\n",
        " \n",
        "contoh_set = set([1, 3, 3, 5, 5, 5, 7, 7, 9])\n",
        "print(contoh_set)\n",
        "print(len(contoh_set))\n",
        " \n",
        "contoh_string = \"Belajar Python\"\n",
        "print(contoh_string)\n",
        "print(len(contoh_string))"
      ],
      "execution_count": null,
      "outputs": [
        {
          "output_type": "stream",
          "text": [
            "[1, 3, 3, 5, 5, 5, 7, 7, 9]\n",
            "9\n",
            "{1, 3, 5, 7, 9}\n",
            "5\n",
            "Belajar Python\n",
            "14\n"
          ],
          "name": "stdout"
        }
      ]
    },
    {
      "cell_type": "markdown",
      "metadata": {
        "id": "n6JtFWDJgbVZ"
      },
      "source": [
        "min() dan max()\n",
        "\n",
        "mengetahui berapa nilai minimum dan maksimum dari suatu list"
      ]
    },
    {
      "cell_type": "code",
      "metadata": {
        "colab": {
          "base_uri": "https://localhost:8080/"
        },
        "id": "M3xkPebCghjE",
        "outputId": "a12173dd-4263-4bd3-929a-6d7fd1b454b8"
      },
      "source": [
        "angka = [13, 7, 24, 5, 96, 84, 71, 11, 38]\n",
        "print(min(angka))\n",
        "print(max(angka))"
      ],
      "execution_count": null,
      "outputs": [
        {
          "output_type": "stream",
          "text": [
            "5\n",
            "96\n"
          ],
          "name": "stdout"
        }
      ]
    },
    {
      "cell_type": "markdown",
      "metadata": {
        "id": "7kvqhaV5go5B"
      },
      "source": [
        "Count\n",
        "\n",
        "Untuk mengetahui berapa kali suatu objek muncul dalam list"
      ]
    },
    {
      "cell_type": "code",
      "metadata": {
        "colab": {
          "base_uri": "https://localhost:8080/"
        },
        "id": "N77U4lGjguNZ",
        "outputId": "3d927049-56be-4931-bc17-62548cdabd9a"
      },
      "source": [
        "genap = [2, 4, 4, 6, 6, 6, 8, 10, 10]\n",
        "print(genap.count(6))\n",
        "string = \"Belajar Python sangat menyenangkan\"\n",
        "substring = \"a\"\n",
        "print(string.count(substring))"
      ],
      "execution_count": null,
      "outputs": [
        {
          "output_type": "stream",
          "text": [
            "3\n",
            "6\n"
          ],
          "name": "stdout"
        }
      ]
    },
    {
      "cell_type": "code",
      "metadata": {
        "colab": {
          "base_uri": "https://localhost:8080/"
        },
        "id": "foLmw5K_1oRS",
        "outputId": "bc0958b5-65a3-4ba5-85bf-17b419eb7663"
      },
      "source": [
        "# Penggabungan dan Replikasi\n",
        "angka = [2, 4, 6, 8]\n",
        "huruf = ['P', 'Y', 'T', 'H', 'O', 'N']\n",
        "gabung = angka + huruf\n",
        "print(gabung)"
      ],
      "execution_count": null,
      "outputs": [
        {
          "output_type": "stream",
          "text": [
            "[2, 4, 6, 8, 'P', 'Y', 'T', 'H', 'O', 'N']\n"
          ],
          "name": "stdout"
        }
      ]
    },
    {
      "cell_type": "code",
      "metadata": {
        "colab": {
          "base_uri": "https://localhost:8080/"
        },
        "id": "kWkw6SQk1wss",
        "outputId": "d1cea8d3-eae3-4790-deae-a5ce084e6050"
      },
      "source": [
        "#  replikasi\n",
        "learn = ['P', 'Y', 'T', 'H', 'O', 'N']\n",
        "replikasi = learn * 2\n",
        "print(replikasi)"
      ],
      "execution_count": null,
      "outputs": [
        {
          "output_type": "stream",
          "text": [
            "['P', 'Y', 'T', 'H', 'O', 'N', 'P', 'Y', 'T', 'H', 'O', 'N']\n"
          ],
          "name": "stdout"
        }
      ]
    },
    {
      "cell_type": "code",
      "metadata": {
        "colab": {
          "base_uri": "https://localhost:8080/"
        },
        "id": "rzbao6Ei16Ft",
        "outputId": "cdf754ab-c842-4b2e-b673-c766a0d8ce16"
      },
      "source": [
        "#Fungsi pengali juga dapat di manfaatkan untuk inisialisasi List\n",
        "tujuh = [7]*7\n",
        "print(len(tujuh))\n",
        "print(tujuh)"
      ],
      "execution_count": null,
      "outputs": [
        {
          "output_type": "stream",
          "text": [
            "7\n",
            "[7, 7, 7, 7, 7, 7, 7]\n"
          ],
          "name": "stdout"
        }
      ]
    },
    {
      "cell_type": "code",
      "metadata": {
        "id": "4QI8ZHTr2BIJ"
      },
      "source": [
        ""
      ],
      "execution_count": null,
      "outputs": []
    },
    {
      "cell_type": "markdown",
      "metadata": {
        "id": "KNa6Wc5h2GIO"
      },
      "source": [
        "Range\n",
        "\n",
        " memberikan deret bilangan dengan pola tertentu"
      ]
    },
    {
      "cell_type": "code",
      "metadata": {
        "colab": {
          "base_uri": "https://localhost:8080/"
        },
        "id": "9f7yzqtb2KcJ",
        "outputId": "c36de712-522a-4e36-be09-f2e2c878874c"
      },
      "source": [
        "#Range dengan 1 parameter\n",
        "for i in range(5):\n",
        "    print(i)"
      ],
      "execution_count": null,
      "outputs": [
        {
          "output_type": "stream",
          "text": [
            "0\n",
            "1\n",
            "2\n",
            "3\n",
            "4\n"
          ],
          "name": "stdout"
        }
      ]
    },
    {
      "cell_type": "code",
      "metadata": {
        "colab": {
          "base_uri": "https://localhost:8080/"
        },
        "id": "1a5jLoRV2gXv",
        "outputId": "9fe88edc-9115-43ab-a394-23eeb889070d"
      },
      "source": [
        "#Range dengan 2 parameter\n",
        "for i in range(1, 11):\n",
        "    print(i)"
      ],
      "execution_count": null,
      "outputs": [
        {
          "output_type": "stream",
          "text": [
            "1\n",
            "2\n",
            "3\n",
            "4\n",
            "5\n",
            "6\n",
            "7\n",
            "8\n",
            "9\n",
            "10\n"
          ],
          "name": "stdout"
        }
      ]
    },
    {
      "cell_type": "code",
      "metadata": {
        "colab": {
          "base_uri": "https://localhost:8080/"
        },
        "id": "9OGJsTtJ2niO",
        "outputId": "492f0e9f-f43e-40c3-ce9c-d5c5d266f95c"
      },
      "source": [
        "# Range dengan 3 parameter\n",
        "print([_ for _ in range(0,20,5)])"
      ],
      "execution_count": null,
      "outputs": [
        {
          "output_type": "stream",
          "text": [
            "[0, 5, 10, 15]\n"
          ],
          "name": "stdout"
        }
      ]
    },
    {
      "cell_type": "markdown",
      "metadata": {
        "id": "pCETNzv03Pox"
      },
      "source": [
        "**in dan not in**\n",
        "\n",
        "Fungsi ini akan mengembalikan nilai boolean True atau False"
      ]
    },
    {
      "cell_type": "code",
      "metadata": {
        "colab": {
          "base_uri": "https://localhost:8080/"
        },
        "id": "pQJV6L1w3YTU",
        "outputId": "e81a872f-2af7-43a2-8fd6-fe5ce776ed5b"
      },
      "source": [
        "kalimat = \"Belajar Python sangat menyenangkan\"\n",
        "print('Belajar' in kalimat)\n",
        "print('tidak' in kalimat)\n",
        "print('sangat' not in kalimat)\n",
        "print('tidak' not in kalimat)"
      ],
      "execution_count": null,
      "outputs": [
        {
          "output_type": "stream",
          "text": [
            "True\n",
            "False\n",
            "False\n",
            "True\n"
          ],
          "name": "stdout"
        }
      ]
    },
    {
      "cell_type": "code",
      "metadata": {
        "id": "FGMzh5cs4B3v"
      },
      "source": [
        "# memberikan nilai untuk beberapa variabel sekaligus dari elemen List atau Tuple tanpa perlu menandai satu per satu\n",
        "data = ['shirt', 'white', 'L']\n",
        "apparel = data[0]\n",
        "color = data[1]\n",
        "size = data[2]"
      ],
      "execution_count": null,
      "outputs": []
    },
    {
      "cell_type": "code",
      "metadata": {
        "id": "CqKfYZbg4GdP"
      },
      "source": [
        "data = ['shirt', 'white', 'L'] # From List\n",
        "apparel, color, size = data\n",
        "data = ('shirt', 'white', 'L')  # From Tuple\n",
        "apparel, color, size = data"
      ],
      "execution_count": null,
      "outputs": []
    },
    {
      "cell_type": "code",
      "metadata": {
        "id": "SeJATC3H4J5j"
      },
      "source": [
        "lidata = ['shirt', 'white', 'L'] # From List\n",
        "apparel, color, size, price = data"
      ],
      "execution_count": null,
      "outputs": []
    },
    {
      "cell_type": "code",
      "metadata": {
        "colab": {
          "base_uri": "https://localhost:8080/"
        },
        "id": "Dp2Lv8KC4YCy",
        "outputId": "ea022145-7887-47c4-93f8-bbc36887e1bf"
      },
      "source": [
        "#Penggunaan assignment pada multi variabel ini dapat Anda gunakan untuk menukar nilai dua atau lebih variabel\n",
        "apparel, color = 'shirt', 'white'\n",
        "apparel, color = color, apparel\n",
        "print(apparel)\n",
        "print(color)"
      ],
      "execution_count": null,
      "outputs": [
        {
          "output_type": "stream",
          "text": [
            "white\n",
            "shirt\n"
          ],
          "name": "stdout"
        }
      ]
    },
    {
      "cell_type": "markdown",
      "metadata": {
        "id": "2IkxBeCK4hty"
      },
      "source": [
        "**Sort**\n",
        "\n",
        "mengurutkan angka atau urutan huruf"
      ]
    },
    {
      "cell_type": "code",
      "metadata": {
        "colab": {
          "base_uri": "https://localhost:8080/"
        },
        "id": "B1oDZsyj4irp",
        "outputId": "31372e18-6446-48b6-8d46-27f986c41869"
      },
      "source": [
        "angka = [100, 1000, 500, 200, 5]\n",
        "angka.sort()\n",
        "print(angka)"
      ],
      "execution_count": null,
      "outputs": [
        {
          "output_type": "stream",
          "text": [
            "[5, 100, 200, 500, 1000]\n"
          ],
          "name": "stdout"
        }
      ]
    },
    {
      "cell_type": "code",
      "metadata": {
        "colab": {
          "base_uri": "https://localhost:8080/"
        },
        "id": "q-cwz5tc4xOV",
        "outputId": "eaf0ece9-f1d5-48fc-ff20-ef5886b6d3f2"
      },
      "source": [
        "kendaraan = ['motor', 'mobil', 'helikopter', 'pesawat']\n",
        "kendaraan.sort()\n",
        "print(kendaraan)"
      ],
      "execution_count": null,
      "outputs": [
        {
          "output_type": "stream",
          "text": [
            "['helikopter', 'mobil', 'motor', 'pesawat']\n"
          ],
          "name": "stdout"
        }
      ]
    },
    {
      "cell_type": "code",
      "metadata": {
        "colab": {
          "base_uri": "https://localhost:8080/"
        },
        "id": "qNeDDAMv42bT",
        "outputId": "8c92361a-10ff-4589-d712-927a650c7254"
      },
      "source": [
        "kendaraan = ['motor', 'mobil', 'helikopter', 'pesawat']\n",
        "kendaraan.sort(reverse=True)\n",
        "print(kendaraan)"
      ],
      "execution_count": null,
      "outputs": [
        {
          "output_type": "stream",
          "text": [
            "['pesawat', 'motor', 'mobil', 'helikopter']\n"
          ],
          "name": "stdout"
        }
      ]
    },
    {
      "cell_type": "code",
      "metadata": {
        "colab": {
          "base_uri": "https://localhost:8080/"
        },
        "id": "0ti-Xe3O5AIc",
        "outputId": "62e8c858-ddd7-4682-ec98-9572a860d4eb"
      },
      "source": [
        "# Metode sort menggunakan urutan ASCII\n",
        "kendaraan = ['motor', 'mobil', 'helikopter', 'Pesawat']\n",
        "kendaraan.sort()\n",
        "print(kendaraan)"
      ],
      "execution_count": null,
      "outputs": [
        {
          "output_type": "stream",
          "text": [
            "['Pesawat', 'helikopter', 'mobil', 'motor']\n"
          ],
          "name": "stdout"
        }
      ]
    },
    {
      "cell_type": "markdown",
      "metadata": {
        "id": "UhQg6mG95OsO"
      },
      "source": [
        "# Operator, Operands, dan Expressions"
      ]
    },
    {
      "cell_type": "code",
      "metadata": {
        "colab": {
          "base_uri": "https://localhost:8080/"
        },
        "id": "bmQz9Rdi5Qcc",
        "outputId": "f99b4a4d-2127-4488-8c2a-7d6b38845050"
      },
      "source": [
        "print(2 + 3)\n",
        "print(3 * 5)"
      ],
      "execution_count": null,
      "outputs": [
        {
          "output_type": "stream",
          "text": [
            "5\n",
            "15\n"
          ],
          "name": "stdout"
        }
      ]
    },
    {
      "cell_type": "code",
      "metadata": {
        "colab": {
          "base_uri": "https://localhost:8080/"
        },
        "id": "SmbzQ-PI5rDb",
        "outputId": "b287bb96-d781-4195-ef86-c53509eadf69"
      },
      "source": [
        "a = 2\n",
        "a = a * 3\n",
        "a"
      ],
      "execution_count": null,
      "outputs": [
        {
          "output_type": "execute_result",
          "data": {
            "text/plain": [
              "6"
            ]
          },
          "metadata": {
            "tags": []
          },
          "execution_count": 21
        }
      ]
    },
    {
      "cell_type": "markdown",
      "metadata": {
        "id": "MRTS-E_15p6I"
      },
      "source": [
        "Penggunaan le, lt, gt, ge, eq, ne"
      ]
    },
    {
      "cell_type": "code",
      "metadata": {
        "colab": {
          "base_uri": "https://localhost:8080/"
        },
        "id": "qfSJ9fw_50uq",
        "outputId": "f7cacbd4-bf69-4d8d-f9c0-90afbc122726"
      },
      "source": [
        "from operator import *\n",
        "hijau = 5\n",
        "kuning = 10\n",
        "print('Kelereng Hijau = {}'.format(hijau))\n",
        "print('Kelereng Kuning = {}'.format(kuning))\n",
        "for func in (lt, le, eq, ne, ge, gt):\n",
        "    print('{}(hijau, kuning): {}'.format(func.__name__, func(hijau, kuning)))"
      ],
      "execution_count": null,
      "outputs": [
        {
          "output_type": "stream",
          "text": [
            "Kelereng Hijau = 5\n",
            "Kelereng Kuning = 10\n",
            "lt(hijau, kuning): True\n",
            "le(hijau, kuning): True\n",
            "eq(hijau, kuning): False\n",
            "ne(hijau, kuning): True\n",
            "ge(hijau, kuning): False\n",
            "gt(hijau, kuning): False\n"
          ],
          "name": "stdout"
        }
      ]
    },
    {
      "cell_type": "markdown",
      "metadata": {
        "id": "NL6FrmlQ6AnA"
      },
      "source": [
        "Boolean Operator\n"
      ]
    },
    {
      "cell_type": "code",
      "metadata": {
        "colab": {
          "base_uri": "https://localhost:8080/"
        },
        "id": "EXqpASov6lQy",
        "outputId": "b2f1246f-ba04-4558-dae8-8f5cc47382ee"
      },
      "source": [
        "hasil = (5 > 6) and (10 <= 8)\n",
        "print(hasil)\n",
        " \n",
        "hasil = ('hallo' == 'hallo') or (10 <= 8)\n",
        "print(hasil)\n",
        " \n",
        "hasil = not (10 < 10)\n",
        "print(hasil)\n",
        " \n",
        "hasil = ('hallo' == 'hallo') and (10 <= 8) or (1 != 1)\n",
        "print(hasil)"
      ],
      "execution_count": null,
      "outputs": [
        {
          "output_type": "stream",
          "text": [
            "False\n",
            "True\n",
            "True\n",
            "False\n"
          ],
          "name": "stdout"
        }
      ]
    },
    {
      "cell_type": "markdown",
      "metadata": {
        "id": "S52E2e1ocaFB"
      },
      "source": [
        "#Python Basic Style Guide - Statement Gabungan, Trailing Commas, dan Anotasi Fungsi"
      ]
    },
    {
      "cell_type": "code",
      "metadata": {
        "id": "-VSxvnjPcb7g"
      },
      "source": [
        "# Statement gabungan\n",
        "if foo == 'blah':\n",
        "    do_blah_thing()\n",
        "do_one()\n",
        "do_two()\n",
        "do_three()"
      ],
      "execution_count": null,
      "outputs": []
    },
    {
      "cell_type": "markdown",
      "metadata": {
        "id": "F0VkfWYQdXAz"
      },
      "source": [
        "**Penggunaan Trailing Commas**\n",
        "\n",
        "\n",
        "Koma di bagian akhir (trailing commas) umumnya bersifat opsional, satu statemen dimana ia bersifat wajib adalah saat kita membuat variabel menggunakan tipe tuple dengan satu elemen"
      ]
    },
    {
      "cell_type": "code",
      "metadata": {
        "id": "JFTEvyGActsD"
      },
      "source": [
        "#Disarankan\n",
        "FILES = ('setup.cfg',)\n",
        "\n",
        "#Tidak disarankan\n",
        "FILES = 'setup.cfg',"
      ],
      "execution_count": null,
      "outputs": []
    },
    {
      "cell_type": "code",
      "metadata": {
        "id": "myubF-3odIIL"
      },
      "source": [
        "#Disarankan\n",
        "FILES = [\n",
        "    'setup.cfg',\n",
        "    'tox.ini',\n",
        "    ]\n",
        "initialize(FILES,\n",
        "           error=True,\n",
        "           )\n",
        "\n",
        "#Tidak disarankan\n",
        "FILES = ['setup.cfg', 'tox.ini',]\n",
        "initialize(FILES, error=True,)"
      ],
      "execution_count": null,
      "outputs": []
    },
    {
      "cell_type": "markdown",
      "metadata": {
        "id": "JzlixQ88dot_"
      },
      "source": [
        "**Anotasi Fungsi**\n",
        "\n",
        "Penggunaan anotasi fungsi sebaiknya menggunakan aturan baku untuk titik dua (:) dan menggunakan spasi untuk penggunaan ->"
      ]
    },
    {
      "cell_type": "code",
      "metadata": {
        "id": "RPhRZGXuduSr"
      },
      "source": [
        "Yes:\n",
        "def munge(input: AnyStr): ...\n",
        "def munge() -> AnyStr: ...\n",
        " \n",
        "No:\n",
        "def munge(input:AnyStr): ...\n",
        "def munge()->PosInt: …"
      ],
      "execution_count": null,
      "outputs": []
    },
    {
      "cell_type": "code",
      "metadata": {
        "id": "5IFIUJG4d1dF"
      },
      "source": [
        "Yes:\n",
        "def complex(real, imag=0.0):\n",
        "    return magic(r=real, i=imag)\n",
        " \n",
        "No:\n",
        "def complex(real, imag = 0.0):\n",
        "    return magic(r = real, i = imag)"
      ],
      "execution_count": null,
      "outputs": []
    },
    {
      "cell_type": "code",
      "metadata": {
        "id": "SP6iK-xAd7Hc"
      },
      "source": [
        "Yes:\n",
        "def munge(sep: AnyStr = None): ...\n",
        "def munge(input: AnyStr, sep: AnyStr = None, limit=1000): ...\n",
        " \n",
        "No:\n",
        "def munge(input: AnyStr=None): ...\n",
        "def munge(input: AnyStr, limit = 1000): …"
      ],
      "execution_count": null,
      "outputs": []
    },
    {
      "cell_type": "markdown",
      "metadata": {
        "id": "dTPMpNfSeNGN"
      },
      "source": [
        "# Percabangan dan Ternary Operators"
      ]
    },
    {
      "cell_type": "markdown",
      "metadata": {
        "id": "9780l1r_ePSS"
      },
      "source": [
        "If\n",
        "\n",
        "Di Python, expression diletakkan setelah if, dan keputusan ditentukan berdasarkan nilai kebenaran dari expression tersebut."
      ]
    },
    {
      "cell_type": "code",
      "metadata": {
        "colab": {
          "base_uri": "https://localhost:8080/"
        },
        "id": "ZTHtqXPAeW35",
        "outputId": "bdf8223e-54b5-4608-c9cf-fded3f6df41a"
      },
      "source": [
        "kelerengku = 10\n",
        "if kelerengku:\n",
        "   print (\"Cetak ini jika benar\")\n",
        "   print (kelerengku)"
      ],
      "execution_count": 2,
      "outputs": [
        {
          "output_type": "stream",
          "text": [
            "Cetak ini jika benar\n",
            "10\n"
          ],
          "name": "stdout"
        }
      ]
    },
    {
      "cell_type": "markdown",
      "metadata": {
        "id": "_lUeClbOefvG"
      },
      "source": [
        "Else\n",
        "\n",
        "Statement Else dapat dikombinasikan dengan IF Statement, sebagai jalan keluar saat kondisi / hasil evaluasi bernilai False."
      ]
    },
    {
      "cell_type": "code",
      "metadata": {
        "colab": {
          "base_uri": "https://localhost:8080/"
        },
        "id": "LjOhCvQhekoT",
        "outputId": "c1a3d5f2-7c0b-44f4-e122-66abd803650a"
      },
      "source": [
        "tinggi_badan = int(input(\"Masukkan tinggi badan Anda : \"))\n",
        "if tinggi_badan>=160:\n",
        "   print (\"Silakan, Anda boleh masuk\")\n",
        "else:\n",
        "   print (\"Maaf, Anda belum boleh masuk\")"
      ],
      "execution_count": 3,
      "outputs": [
        {
          "output_type": "stream",
          "text": [
            "Masukkan tinggi badan Anda : 156\n",
            "Maaf, Anda belum boleh masuk\n"
          ],
          "name": "stdout"
        }
      ]
    },
    {
      "cell_type": "code",
      "metadata": {
        "colab": {
          "base_uri": "https://localhost:8080/"
        },
        "id": "P9ViHHz4etUQ",
        "outputId": "d2c273bb-9194-4805-b563-16d060a37554"
      },
      "source": [
        "bilangan = 4\n",
        "if bilangan % 2 == 0:\n",
        "    print('Bilangan {} adalah genap'.format(bilangan))\n",
        "else:\n",
        "    print('Bilangan {} adalah ganjil'.format(bilangan))"
      ],
      "execution_count": 4,
      "outputs": [
        {
          "output_type": "stream",
          "text": [
            "Bilangan 4 adalah genap\n"
          ],
          "name": "stdout"
        }
      ]
    },
    {
      "cell_type": "markdown",
      "metadata": {
        "id": "Kkf-ZzBGeyVK"
      },
      "source": [
        "**Elif**\n",
        "\n",
        "Elif adalah kependekan dari else if, dan merupakan alternatif untuk if bertingkat atau switch/case di beberapa bahasa pemrograman lain"
      ]
    },
    {
      "cell_type": "code",
      "metadata": {
        "colab": {
          "base_uri": "https://localhost:8080/"
        },
        "id": "QA9yYwOTe5Cq",
        "outputId": "83849a92-dbc8-4606-8212-fe346840237d"
      },
      "source": [
        "nilai = int(input(\"Masukkan nilai tugas Anda : \"))\n",
        "if nilai>80:\n",
        "   print(\"Selamat! Anda mendapat nilai A\")\n",
        "   print(\"Pertahankan!\")\n",
        "elif nilai>70:\n",
        "   print(\"Hore! Anda mendapat nilai B\")\n",
        "   print(\"Tingkatkan!\")\n",
        "elif nilai>60:\n",
        "   print(\"Hmm.. Anda mendapat nilai C\")\n",
        "   print(\"Ayo semangat!\")\n",
        "else:\n",
        "   print(\"Waduh, Anda mendapat nilai D\")\n",
        "   print(\"Yuk belajar lebih giat lagi!\")"
      ],
      "execution_count": 5,
      "outputs": [
        {
          "output_type": "stream",
          "text": [
            "Masukkan nilai tugas Anda : 79\n",
            "Hore! Anda mendapat nilai B\n",
            "Tingkatkan!\n"
          ],
          "name": "stdout"
        }
      ]
    },
    {
      "cell_type": "markdown",
      "metadata": {
        "id": "3YugdxdNfIRz"
      },
      "source": [
        "Ternary Operators\n",
        "\n",
        "Ternary operator lebih dikenal sebagai conditional expressions pada Python. Operator menentukan sesuatu berdasarkan kondisi True atau False. Jika statement atau klausa if Anda cukup sederhana, maka ternary Operators akan sangat membantu"
      ]
    },
    {
      "cell_type": "code",
      "metadata": {
        "id": "rbhBedGBfNPg"
      },
      "source": [
        "kondisi = True\n",
        "print(2 if kondisi else 1/0)\n",
        "#Output is 2\n",
        " \n",
        "print((1/0, 2)[kondisi])\n",
        "#Eror Pembagian Nol akan muncul"
      ],
      "execution_count": null,
      "outputs": []
    },
    {
      "cell_type": "markdown",
      "metadata": {
        "id": "IAeTeisnfl9l"
      },
      "source": [
        "**ShortHand Ternary**\n",
        "\n",
        "tag yang mungkin membantu Anda untuk memeriksa kode/hasil dari sebuah fungsi dan memastikan outputnya tidak menyebabkan error"
      ]
    },
    {
      "cell_type": "code",
      "metadata": {
        "colab": {
          "base_uri": "https://localhost:8080/"
        },
        "id": "nryr8ZU5fs8G",
        "outputId": "4301bad9-2406-481a-fb6a-7554023bb695"
      },
      "source": [
        "hasil = None\n",
        "pesan = hasil or \"Tidak ada data\"\n",
        "print(pesan)"
      ],
      "execution_count": 7,
      "outputs": [
        {
          "output_type": "stream",
          "text": [
            "Tidak ada data\n"
          ],
          "name": "stdout"
        }
      ]
    },
    {
      "cell_type": "markdown",
      "metadata": {
        "id": "jOwFnSxQgPia"
      },
      "source": [
        "# Perulangan"
      ]
    },
    {
      "cell_type": "markdown",
      "metadata": {
        "id": "vfLEalkJgQvc"
      },
      "source": [
        "For\n",
        "\n",
        "For tidak hanya untuk perulangan dengan jumlah finite (terbatas), melainkan lebih ke fungsi yang dapat melakukan perulangan pada setiap jenis variabel berupa kumpulan atau urutan. Variabel yang dimaksud bisa berupa list, string, ataupun range."
      ]
    },
    {
      "cell_type": "code",
      "metadata": {
        "colab": {
          "base_uri": "https://localhost:8080/"
        },
        "id": "GucuaWSagby2",
        "outputId": "8cff5c24-5fa9-4a7e-b08c-fc263afe91ff"
      },
      "source": [
        "for huruf in 'Dicoding':  # Contoh pertama\n",
        "    print('Huruf: {}'.format(huruf))\n",
        " \n",
        "flowers = ['mawar', 'melati', 'anggrek']\n",
        "for flower in flowers:  # Contoh kedua\n",
        "    print('Flower: {}'.format(flower))"
      ],
      "execution_count": 8,
      "outputs": [
        {
          "output_type": "stream",
          "text": [
            "Huruf: D\n",
            "Huruf: i\n",
            "Huruf: c\n",
            "Huruf: o\n",
            "Huruf: d\n",
            "Huruf: i\n",
            "Huruf: n\n",
            "Huruf: g\n",
            "Flower: mawar\n",
            "Flower: melati\n",
            "Flower: anggrek\n"
          ],
          "name": "stdout"
        }
      ]
    },
    {
      "cell_type": "code",
      "metadata": {
        "colab": {
          "base_uri": "https://localhost:8080/"
        },
        "id": "oH8jQmedg0vT",
        "outputId": "705e3bb0-a70e-4161-c5ee-3541b5673a68"
      },
      "source": [
        "# perulangan berdasarkan indeks atau range dengan memanfaatkan fungsi len()\n",
        "flowers = ['mawar', 'melati', 'anggrek']\n",
        "for index in range(len(flowers)):\n",
        "    print('Flowers: {}'.format(flowers[index]))"
      ],
      "execution_count": 9,
      "outputs": [
        {
          "output_type": "stream",
          "text": [
            "Flowers: mawar\n",
            "Flowers: melati\n",
            "Flowers: anggrek\n"
          ],
          "name": "stdout"
        }
      ]
    },
    {
      "cell_type": "markdown",
      "metadata": {
        "id": "qAcOeVbcg8GR"
      },
      "source": [
        "**While**\n",
        "\n",
        "digunakan untuk mengeksekusi statement selama kondisi yang diberikan terpenuhi (True). Kondisi dapat berupa expression apapun, dan harap diingat bahwa True di Python termasuk semua nilai non-zero. Saat kondisi menjadi False, program akan melanjutkan ke baris setelah blok statement."
      ]
    },
    {
      "cell_type": "code",
      "metadata": {
        "colab": {
          "base_uri": "https://localhost:8080/"
        },
        "id": "NdEW4hpXhCGN",
        "outputId": "e2336f29-bc6e-4516-a37b-7ffb0fed6657"
      },
      "source": [
        "count = 0\n",
        "while (count < 7):\n",
        "    print('Hitungannya adalah: {}'.format(count))\n",
        "    count = count + 1"
      ],
      "execution_count": 10,
      "outputs": [
        {
          "output_type": "stream",
          "text": [
            "Hitungannya adalah: 0\n",
            "Hitungannya adalah: 1\n",
            "Hitungannya adalah: 2\n",
            "Hitungannya adalah: 3\n",
            "Hitungannya adalah: 4\n",
            "Hitungannya adalah: 5\n",
            "Hitungannya adalah: 6\n"
          ],
          "name": "stdout"
        }
      ]
    },
    {
      "cell_type": "code",
      "metadata": {
        "colab": {
          "base_uri": "https://localhost:8080/",
          "height": 654
        },
        "id": "9-IqVgtYhMI0",
        "outputId": "91a7a66b-2631-407f-e0e1-3b7a36840d72"
      },
      "source": [
        "# eksekusi statement while mungkin bersifat infinit / infinite loop saat sebuah kondisi tidak pernah bernilai False.\n",
        "var = 1\n",
        "while var == 1:  # This constructs an infinite loop\n",
        "    num = input('Masukkan angka: ')\n",
        "    print('Anda memasukkan angka: {}'.format(num))\n",
        " \n",
        " \n",
        "while True:  # This constructs an infinite loop\n",
        "    num = input('Masukkan angka: ')\n",
        "    print('Anda memasukkan angka: {}'.format(num))"
      ],
      "execution_count": 11,
      "outputs": [
        {
          "output_type": "stream",
          "text": [
            "Masukkan angka: 12\n",
            "Anda memasukkan angka: 12\n",
            "Masukkan angka: 12\n",
            "Anda memasukkan angka: 12\n",
            "Masukkan angka: 75\n",
            "Anda memasukkan angka: 75\n"
          ],
          "name": "stdout"
        },
        {
          "output_type": "error",
          "ename": "KeyboardInterrupt",
          "evalue": "ignored",
          "traceback": [
            "\u001b[0;31m---------------------------------------------------------------------------\u001b[0m",
            "\u001b[0;31mKeyboardInterrupt\u001b[0m                         Traceback (most recent call last)",
            "\u001b[0;32m/usr/local/lib/python3.7/dist-packages/ipykernel/kernelbase.py\u001b[0m in \u001b[0;36m_input_request\u001b[0;34m(self, prompt, ident, parent, password)\u001b[0m\n\u001b[1;32m    728\u001b[0m             \u001b[0;32mtry\u001b[0m\u001b[0;34m:\u001b[0m\u001b[0;34m\u001b[0m\u001b[0;34m\u001b[0m\u001b[0m\n\u001b[0;32m--> 729\u001b[0;31m                 \u001b[0mident\u001b[0m\u001b[0;34m,\u001b[0m \u001b[0mreply\u001b[0m \u001b[0;34m=\u001b[0m \u001b[0mself\u001b[0m\u001b[0;34m.\u001b[0m\u001b[0msession\u001b[0m\u001b[0;34m.\u001b[0m\u001b[0mrecv\u001b[0m\u001b[0;34m(\u001b[0m\u001b[0mself\u001b[0m\u001b[0;34m.\u001b[0m\u001b[0mstdin_socket\u001b[0m\u001b[0;34m,\u001b[0m \u001b[0;36m0\u001b[0m\u001b[0;34m)\u001b[0m\u001b[0;34m\u001b[0m\u001b[0;34m\u001b[0m\u001b[0m\n\u001b[0m\u001b[1;32m    730\u001b[0m             \u001b[0;32mexcept\u001b[0m \u001b[0mException\u001b[0m\u001b[0;34m:\u001b[0m\u001b[0;34m\u001b[0m\u001b[0;34m\u001b[0m\u001b[0m\n",
            "\u001b[0;32m/usr/local/lib/python3.7/dist-packages/jupyter_client/session.py\u001b[0m in \u001b[0;36mrecv\u001b[0;34m(self, socket, mode, content, copy)\u001b[0m\n\u001b[1;32m    802\u001b[0m         \u001b[0;32mtry\u001b[0m\u001b[0;34m:\u001b[0m\u001b[0;34m\u001b[0m\u001b[0;34m\u001b[0m\u001b[0m\n\u001b[0;32m--> 803\u001b[0;31m             \u001b[0mmsg_list\u001b[0m \u001b[0;34m=\u001b[0m \u001b[0msocket\u001b[0m\u001b[0;34m.\u001b[0m\u001b[0mrecv_multipart\u001b[0m\u001b[0;34m(\u001b[0m\u001b[0mmode\u001b[0m\u001b[0;34m,\u001b[0m \u001b[0mcopy\u001b[0m\u001b[0;34m=\u001b[0m\u001b[0mcopy\u001b[0m\u001b[0;34m)\u001b[0m\u001b[0;34m\u001b[0m\u001b[0;34m\u001b[0m\u001b[0m\n\u001b[0m\u001b[1;32m    804\u001b[0m         \u001b[0;32mexcept\u001b[0m \u001b[0mzmq\u001b[0m\u001b[0;34m.\u001b[0m\u001b[0mZMQError\u001b[0m \u001b[0;32mas\u001b[0m \u001b[0me\u001b[0m\u001b[0;34m:\u001b[0m\u001b[0;34m\u001b[0m\u001b[0;34m\u001b[0m\u001b[0m\n",
            "\u001b[0;32m/usr/local/lib/python3.7/dist-packages/zmq/sugar/socket.py\u001b[0m in \u001b[0;36mrecv_multipart\u001b[0;34m(self, flags, copy, track)\u001b[0m\n\u001b[1;32m    582\u001b[0m         \"\"\"\n\u001b[0;32m--> 583\u001b[0;31m         \u001b[0mparts\u001b[0m \u001b[0;34m=\u001b[0m \u001b[0;34m[\u001b[0m\u001b[0mself\u001b[0m\u001b[0;34m.\u001b[0m\u001b[0mrecv\u001b[0m\u001b[0;34m(\u001b[0m\u001b[0mflags\u001b[0m\u001b[0;34m,\u001b[0m \u001b[0mcopy\u001b[0m\u001b[0;34m=\u001b[0m\u001b[0mcopy\u001b[0m\u001b[0;34m,\u001b[0m \u001b[0mtrack\u001b[0m\u001b[0;34m=\u001b[0m\u001b[0mtrack\u001b[0m\u001b[0;34m)\u001b[0m\u001b[0;34m]\u001b[0m\u001b[0;34m\u001b[0m\u001b[0;34m\u001b[0m\u001b[0m\n\u001b[0m\u001b[1;32m    584\u001b[0m         \u001b[0;31m# have first part already, only loop while more to receive\u001b[0m\u001b[0;34m\u001b[0m\u001b[0;34m\u001b[0m\u001b[0;34m\u001b[0m\u001b[0m\n",
            "\u001b[0;32mzmq/backend/cython/socket.pyx\u001b[0m in \u001b[0;36mzmq.backend.cython.socket.Socket.recv\u001b[0;34m()\u001b[0m\n",
            "\u001b[0;32mzmq/backend/cython/socket.pyx\u001b[0m in \u001b[0;36mzmq.backend.cython.socket.Socket.recv\u001b[0;34m()\u001b[0m\n",
            "\u001b[0;32mzmq/backend/cython/socket.pyx\u001b[0m in \u001b[0;36mzmq.backend.cython.socket._recv_copy\u001b[0;34m()\u001b[0m\n",
            "\u001b[0;32m/usr/local/lib/python3.7/dist-packages/zmq/backend/cython/checkrc.pxd\u001b[0m in \u001b[0;36mzmq.backend.cython.checkrc._check_rc\u001b[0;34m()\u001b[0m\n",
            "\u001b[0;31mKeyboardInterrupt\u001b[0m: ",
            "\nDuring handling of the above exception, another exception occurred:\n",
            "\u001b[0;31mKeyboardInterrupt\u001b[0m                         Traceback (most recent call last)",
            "\u001b[0;32m<ipython-input-11-787ec89d671f>\u001b[0m in \u001b[0;36m<module>\u001b[0;34m()\u001b[0m\n\u001b[1;32m      2\u001b[0m \u001b[0mvar\u001b[0m \u001b[0;34m=\u001b[0m \u001b[0;36m1\u001b[0m\u001b[0;34m\u001b[0m\u001b[0;34m\u001b[0m\u001b[0m\n\u001b[1;32m      3\u001b[0m \u001b[0;32mwhile\u001b[0m \u001b[0mvar\u001b[0m \u001b[0;34m==\u001b[0m \u001b[0;36m1\u001b[0m\u001b[0;34m:\u001b[0m  \u001b[0;31m# This constructs an infinite loop\u001b[0m\u001b[0;34m\u001b[0m\u001b[0;34m\u001b[0m\u001b[0m\n\u001b[0;32m----> 4\u001b[0;31m     \u001b[0mnum\u001b[0m \u001b[0;34m=\u001b[0m \u001b[0minput\u001b[0m\u001b[0;34m(\u001b[0m\u001b[0;34m'Masukkan angka: '\u001b[0m\u001b[0;34m)\u001b[0m\u001b[0;34m\u001b[0m\u001b[0;34m\u001b[0m\u001b[0m\n\u001b[0m\u001b[1;32m      5\u001b[0m     \u001b[0mprint\u001b[0m\u001b[0;34m(\u001b[0m\u001b[0;34m'Anda memasukkan angka: {}'\u001b[0m\u001b[0;34m.\u001b[0m\u001b[0mformat\u001b[0m\u001b[0;34m(\u001b[0m\u001b[0mnum\u001b[0m\u001b[0;34m)\u001b[0m\u001b[0;34m)\u001b[0m\u001b[0;34m\u001b[0m\u001b[0;34m\u001b[0m\u001b[0m\n\u001b[1;32m      6\u001b[0m \u001b[0;34m\u001b[0m\u001b[0m\n",
            "\u001b[0;32m/usr/local/lib/python3.7/dist-packages/ipykernel/kernelbase.py\u001b[0m in \u001b[0;36mraw_input\u001b[0;34m(self, prompt)\u001b[0m\n\u001b[1;32m    702\u001b[0m             \u001b[0mself\u001b[0m\u001b[0;34m.\u001b[0m\u001b[0m_parent_ident\u001b[0m\u001b[0;34m,\u001b[0m\u001b[0;34m\u001b[0m\u001b[0;34m\u001b[0m\u001b[0m\n\u001b[1;32m    703\u001b[0m             \u001b[0mself\u001b[0m\u001b[0;34m.\u001b[0m\u001b[0m_parent_header\u001b[0m\u001b[0;34m,\u001b[0m\u001b[0;34m\u001b[0m\u001b[0;34m\u001b[0m\u001b[0m\n\u001b[0;32m--> 704\u001b[0;31m             \u001b[0mpassword\u001b[0m\u001b[0;34m=\u001b[0m\u001b[0;32mFalse\u001b[0m\u001b[0;34m,\u001b[0m\u001b[0;34m\u001b[0m\u001b[0;34m\u001b[0m\u001b[0m\n\u001b[0m\u001b[1;32m    705\u001b[0m         )\n\u001b[1;32m    706\u001b[0m \u001b[0;34m\u001b[0m\u001b[0m\n",
            "\u001b[0;32m/usr/local/lib/python3.7/dist-packages/ipykernel/kernelbase.py\u001b[0m in \u001b[0;36m_input_request\u001b[0;34m(self, prompt, ident, parent, password)\u001b[0m\n\u001b[1;32m    732\u001b[0m             \u001b[0;32mexcept\u001b[0m \u001b[0mKeyboardInterrupt\u001b[0m\u001b[0;34m:\u001b[0m\u001b[0;34m\u001b[0m\u001b[0;34m\u001b[0m\u001b[0m\n\u001b[1;32m    733\u001b[0m                 \u001b[0;31m# re-raise KeyboardInterrupt, to truncate traceback\u001b[0m\u001b[0;34m\u001b[0m\u001b[0;34m\u001b[0m\u001b[0;34m\u001b[0m\u001b[0m\n\u001b[0;32m--> 734\u001b[0;31m                 \u001b[0;32mraise\u001b[0m \u001b[0mKeyboardInterrupt\u001b[0m\u001b[0;34m\u001b[0m\u001b[0;34m\u001b[0m\u001b[0m\n\u001b[0m\u001b[1;32m    735\u001b[0m             \u001b[0;32melse\u001b[0m\u001b[0;34m:\u001b[0m\u001b[0;34m\u001b[0m\u001b[0;34m\u001b[0m\u001b[0m\n\u001b[1;32m    736\u001b[0m                 \u001b[0;32mbreak\u001b[0m\u001b[0;34m\u001b[0m\u001b[0;34m\u001b[0m\u001b[0m\n",
            "\u001b[0;31mKeyboardInterrupt\u001b[0m: "
          ]
        }
      ]
    },
    {
      "cell_type": "markdown",
      "metadata": {
        "id": "mBGGZXwEhhXs"
      },
      "source": [
        "Perulangan Bertingkat"
      ]
    },
    {
      "cell_type": "code",
      "metadata": {
        "colab": {
          "base_uri": "https://localhost:8080/"
        },
        "id": "_NPp2NJwhiQZ",
        "outputId": "e72d60a4-8498-44a0-b128-495a770fb424"
      },
      "source": [
        "for i in range(0, 6):\n",
        "    for j in range(0, 6 - i):\n",
        "        print('*', end='')\n",
        "    print()"
      ],
      "execution_count": 12,
      "outputs": [
        {
          "output_type": "stream",
          "text": [
            "******\n",
            "*****\n",
            "****\n",
            "***\n",
            "**\n",
            "*\n"
          ],
          "name": "stdout"
        }
      ]
    },
    {
      "cell_type": "markdown",
      "metadata": {
        "id": "aF9mnNlRhopV"
      },
      "source": [
        "# Kontrol Perulangan"
      ]
    },
    {
      "cell_type": "markdown",
      "metadata": {
        "id": "ZuNnNFR0hqN6"
      },
      "source": [
        "Break\n",
        "\n",
        "menghentikan perulangan kemudian keluar, dilanjutkan dengan mengeksekusi pernyataan (statement) setelah blok perulangan."
      ]
    },
    {
      "cell_type": "code",
      "metadata": {
        "colab": {
          "base_uri": "https://localhost:8080/"
        },
        "id": "LXziJMj3hzPC",
        "outputId": "88efb368-2e97-46f6-ee8f-e9e607049250"
      },
      "source": [
        "for huruf in 'Hall o':\n",
        "    if huruf == ' ':\n",
        "        break\n",
        "    print('Huruf saat ini: {}'.format(huruf))"
      ],
      "execution_count": 14,
      "outputs": [
        {
          "output_type": "stream",
          "text": [
            "Huruf saat ini: H\n",
            "Huruf saat ini: a\n",
            "Huruf saat ini: l\n",
            "Huruf saat ini: l\n"
          ],
          "name": "stdout"
        }
      ]
    },
    {
      "cell_type": "code",
      "metadata": {
        "colab": {
          "base_uri": "https://localhost:8080/"
        },
        "id": "5hnV6FZoiCgY",
        "outputId": "8c0c3216-6389-47de-a645-dc5b1721567c"
      },
      "source": [
        "for i in range (0,10):\n",
        "    for j in range (0,10):\n",
        "        if j>i:\n",
        "            print()\n",
        "            break\n",
        "        else:\n",
        "            print(\"*\",end=\"\")"
      ],
      "execution_count": 15,
      "outputs": [
        {
          "output_type": "stream",
          "text": [
            "*\n",
            "**\n",
            "***\n",
            "****\n",
            "*****\n",
            "******\n",
            "*******\n",
            "********\n",
            "*********\n",
            "**********"
          ],
          "name": "stdout"
        }
      ]
    },
    {
      "cell_type": "markdown",
      "metadata": {
        "id": "msq8-HI_iGvp"
      },
      "source": [
        "Continue\n",
        "\n",
        "akan membuat iterasi saat ini berhenti, kemudian melanjutkan ke iterasi berikutnya, mengabaikan pernyataan (statement) yang berada antara continue hingga akhir blok perulangan."
      ]
    },
    {
      "cell_type": "code",
      "metadata": {
        "colab": {
          "base_uri": "https://localhost:8080/"
        },
        "id": "Wve-vH2miJ6V",
        "outputId": "dd86a991-e5aa-4183-9766-e3c3a83ab2e1"
      },
      "source": [
        "for huruf in 'Hallo Indonesia':\n",
        "    if huruf == ' ':\n",
        "        continue\n",
        "    print('Huruf saat ini: {}'.format(huruf))"
      ],
      "execution_count": 17,
      "outputs": [
        {
          "output_type": "stream",
          "text": [
            "Huruf saat ini: H\n",
            "Huruf saat ini: a\n",
            "Huruf saat ini: l\n",
            "Huruf saat ini: l\n",
            "Huruf saat ini: o\n",
            "Huruf saat ini: I\n",
            "Huruf saat ini: n\n",
            "Huruf saat ini: d\n",
            "Huruf saat ini: o\n",
            "Huruf saat ini: n\n",
            "Huruf saat ini: e\n",
            "Huruf saat ini: s\n",
            "Huruf saat ini: i\n",
            "Huruf saat ini: a\n"
          ],
          "name": "stdout"
        }
      ]
    },
    {
      "cell_type": "code",
      "metadata": {
        "colab": {
          "base_uri": "https://localhost:8080/"
        },
        "id": "Kt_MMspziaAd",
        "outputId": "175754de-0393-4222-9f57-2a7f7b67187f"
      },
      "source": [
        "jumlahbaris = 10\n",
        "baris = 0\n",
        "bintang = 0\n",
        "while baris < jumlahbaris:\n",
        "    if (bintang) >= (baris+1):\n",
        "        print()\n",
        "        baris = baris+1\n",
        "        bintang=0\n",
        "        continue      ##saat masuk ke if, maka bagian print * diluar if tidak akan dijalankan, langsung ulang ke while\n",
        "    print(\"*\",end=\"\")\n",
        "    bintang= bintang+1"
      ],
      "execution_count": 18,
      "outputs": [
        {
          "output_type": "stream",
          "text": [
            "*\n",
            "**\n",
            "***\n",
            "****\n",
            "*****\n",
            "******\n",
            "*******\n",
            "********\n",
            "*********\n",
            "**********\n"
          ],
          "name": "stdout"
        }
      ]
    },
    {
      "cell_type": "markdown",
      "metadata": {
        "id": "nc1Yy04Tie81"
      },
      "source": [
        "Else setelah For\n",
        "\n",
        "Fungsinya diutamakan pada perulangan yang bersifat pencarian - untuk memberikan jalan keluar program saat pencarian tidak ditemukan"
      ]
    },
    {
      "cell_type": "code",
      "metadata": {
        "id": "02ReZNX3iktk"
      },
      "source": [
        "#Struktur umumnya adalah sebagai berikut\n",
        "for item in items:\n",
        "    if cari(item):\n",
        "        #ditemukan!\n",
        "        proses_item()\n",
        "        break\n",
        "else:\n",
        "    #Item tidak ditemukan\n",
        "    not_found_in_container()"
      ],
      "execution_count": null,
      "outputs": []
    },
    {
      "cell_type": "code",
      "metadata": {
        "id": "mDsHU1OLkj0L"
      },
      "source": [
        "# struktur pseudocode yang diikuti dalam membuat else pada perulangan\n",
        "if any(something_about(thing) for each thing in container):\n",
        "    do_something(that_thing)\n",
        "else:\n",
        "    no_such_thing()"
      ],
      "execution_count": null,
      "outputs": []
    },
    {
      "cell_type": "code",
      "metadata": {
        "colab": {
          "base_uri": "https://localhost:8080/"
        },
        "id": "vYK3NtPbknTE",
        "outputId": "0a8075c0-5fa2-494a-f0c6-a1af3d399090"
      },
      "source": [
        "for n in range(2, 10):\n",
        "    for x in range(2, n):\n",
        "        if n % x == 0:\n",
        "            print(n, 'equals', x, '*', n/x)\n",
        "            break"
      ],
      "execution_count": 20,
      "outputs": [
        {
          "output_type": "stream",
          "text": [
            "4 equals 2 * 2.0\n",
            "6 equals 2 * 3.0\n",
            "8 equals 2 * 4.0\n",
            "9 equals 3 * 3.0\n"
          ],
          "name": "stdout"
        }
      ]
    },
    {
      "cell_type": "code",
      "metadata": {
        "colab": {
          "base_uri": "https://localhost:8080/"
        },
        "id": "S53RoJBBkyJk",
        "outputId": "d5ccae2f-7745-46b1-8c1e-3a986755657b"
      },
      "source": [
        "for n in range(2, 10):\n",
        "    for x in range(2, n):\n",
        "        if n % x == 0:\n",
        "            print( n, 'equals', x, '*', n/x)\n",
        "            break\n",
        "    else:\n",
        "        # loop fell through without finding a factor\n",
        "        print(n, ' adalah bilangan prima')"
      ],
      "execution_count": 21,
      "outputs": [
        {
          "output_type": "stream",
          "text": [
            "2  adalah bilangan prima\n",
            "3  adalah bilangan prima\n",
            "4 equals 2 * 2.0\n",
            "5  adalah bilangan prima\n",
            "6 equals 2 * 3.0\n",
            "7  adalah bilangan prima\n",
            "8 equals 2 * 4.0\n",
            "9 equals 3 * 3.0\n"
          ],
          "name": "stdout"
        }
      ]
    },
    {
      "cell_type": "markdown",
      "metadata": {
        "id": "0hWOJ7I2k2Zl"
      },
      "source": [
        "Else setelah While\n",
        "\n",
        "blok statement else akan selalu dieksekusi saat kondisi pada while menjadi salah"
      ]
    },
    {
      "cell_type": "code",
      "metadata": {
        "colab": {
          "base_uri": "https://localhost:8080/"
        },
        "id": "-ZV_lN3Pk6cQ",
        "outputId": "bee4f0d7-78d4-4f6f-aef9-a83e1121b332"
      },
      "source": [
        "n = 10\n",
        "while n > 0:\n",
        "    n = n - 1\n",
        "    if n == 7:\n",
        "        break\n",
        "    print(n)\n",
        "else:\n",
        "    print(\"Loop selesai\")"
      ],
      "execution_count": 22,
      "outputs": [
        {
          "output_type": "stream",
          "text": [
            "9\n",
            "8\n"
          ],
          "name": "stdout"
        }
      ]
    },
    {
      "cell_type": "code",
      "metadata": {
        "colab": {
          "base_uri": "https://localhost:8080/"
        },
        "id": "XdxJ0zpflP6T",
        "outputId": "57959dc1-09e9-4ea5-e9b5-3c887e310208"
      },
      "source": [
        "n = 10\n",
        "while n > 0:\n",
        "    n = n - 1\n",
        "    print(n)\n",
        "else:\n",
        "    print(\"Loop selesai\")"
      ],
      "execution_count": 23,
      "outputs": [
        {
          "output_type": "stream",
          "text": [
            "9\n",
            "8\n",
            "7\n",
            "6\n",
            "5\n",
            "4\n",
            "3\n",
            "2\n",
            "1\n",
            "0\n",
            "Loop selesai\n"
          ],
          "name": "stdout"
        }
      ]
    },
    {
      "cell_type": "markdown",
      "metadata": {
        "id": "cE9JgsQmlTCe"
      },
      "source": [
        "Pass\n",
        "\n",
        "Pass statement adalah operasi bersifat Null (kosong), tidak ada yang terjadi saat ia dipanggil."
      ]
    },
    {
      "cell_type": "code",
      "metadata": {
        "id": "a3jlnXWXleLR"
      },
      "source": [
        "def sebuahfungsi():\n",
        "    pass"
      ],
      "execution_count": 24,
      "outputs": []
    },
    {
      "cell_type": "code",
      "metadata": {
        "id": "tfH2IjVhlqUZ"
      },
      "source": [
        "#Contoh pass untuk mengantisipasi exception/kegagalan fungsi\n",
        "var1=\"\"\n",
        "while(var1!=\"exit\"):\n",
        "    var1=input(\"Please enter an integer (type exit to exit): \")\n",
        "    print(int(var1))"
      ],
      "execution_count": null,
      "outputs": []
    },
    {
      "cell_type": "code",
      "metadata": {
        "colab": {
          "base_uri": "https://localhost:8080/"
        },
        "id": "2eJim7q2lTx8",
        "outputId": "d3910daa-728d-4e90-b206-a006e5e5fadc"
      },
      "source": [
        "import sys\n",
        "data=''\n",
        "while(data!='exit'):\n",
        "    try:\n",
        "        data=input('Please enter an integer (type exit to exit): ')\n",
        "        print('got integer: {}'.format(int(data)))\n",
        "    except:\n",
        "        if data == 'exit':\n",
        "            pass  # exit gracefully without prompt any error\n",
        "        else:\n",
        "            print('error: {}'.format(sys.exc_info()[0]))"
      ],
      "execution_count": 25,
      "outputs": [
        {
          "output_type": "stream",
          "text": [
            "Please enter an integer (type exit to exit): 1\n",
            "got integer: 1\n",
            "Please enter an integer (type exit to exit): 2\n",
            "got integer: 2\n",
            "Please enter an integer (type exit to exit): gh\n",
            "error: <class 'ValueError'>\n",
            "Please enter an integer (type exit to exit): zf13\n",
            "error: <class 'ValueError'>\n",
            "error: <class 'KeyboardInterrupt'>\n",
            "Please enter an integer (type exit to exit): wxit\n",
            "error: <class 'ValueError'>\n",
            "Please enter an integer (type exit to exit): exit\n"
          ],
          "name": "stdout"
        }
      ]
    },
    {
      "cell_type": "markdown",
      "metadata": {
        "id": "Fib7VQANmFBl"
      },
      "source": [
        "List Comprehension (membuat list dengan inline loop dan if)\n",
        "\n"
      ]
    },
    {
      "cell_type": "code",
      "metadata": {
        "colab": {
          "base_uri": "https://localhost:8080/"
        },
        "id": "LMdckocamLcs",
        "outputId": "c37e8e52-8fbd-4449-eb0c-da551baaa548"
      },
      "source": [
        "#Cara 1\n",
        "angka = [1, 2, 3, 4]\n",
        "pangkat = []\n",
        "for n in angka:\n",
        "  pangkat.append(n**2)\n",
        "print(pangkat)"
      ],
      "execution_count": 26,
      "outputs": [
        {
          "output_type": "stream",
          "text": [
            "[1, 4, 9, 16]\n"
          ],
          "name": "stdout"
        }
      ]
    },
    {
      "cell_type": "code",
      "metadata": {
        "colab": {
          "base_uri": "https://localhost:8080/"
        },
        "id": "t4ybxE9LmMzE",
        "outputId": "6876217c-c9ac-4a90-f2d3-479f56431bed"
      },
      "source": [
        "#Cara 2 List Comprehension\n",
        "angka = [1, 2, 3, 4]\n",
        "pangkat = [n**2 for n in angka]\n",
        "print(pangkat)"
      ],
      "execution_count": 27,
      "outputs": [
        {
          "output_type": "stream",
          "text": [
            "[1, 4, 9, 16]\n"
          ],
          "name": "stdout"
        }
      ]
    },
    {
      "cell_type": "code",
      "metadata": {
        "colab": {
          "base_uri": "https://localhost:8080/"
        },
        "id": "W0cBzM6jmZUB",
        "outputId": "cf489de2-b6bc-41f2-a7d0-fa48747bb1ef"
      },
      "source": [
        "#Contoh3 menemukan item yang ada di kedua list\n",
        "list1 = ['d', 'i', 'c', 'o']\n",
        "list2 = ['d', 'i', 'n', 'g']\n",
        "duplikat = []\n",
        "for a in list1:\n",
        "  for b in list2:\n",
        "    if a == b:\n",
        "      duplikat.append(a)\n",
        "     \n",
        "print(duplikat)  # Output ['d','i']"
      ],
      "execution_count": 28,
      "outputs": [
        {
          "output_type": "stream",
          "text": [
            "['d', 'i']\n"
          ],
          "name": "stdout"
        }
      ]
    },
    {
      "cell_type": "code",
      "metadata": {
        "colab": {
          "base_uri": "https://localhost:8080/"
        },
        "id": "x2rhjUDbmcEp",
        "outputId": "007740c3-567e-4e2e-c8ac-9b4c04f17ea9"
      },
      "source": [
        "#Contoh4 Implementasi dengan list comprehension\n",
        "list1 = ['d', 'i', 'c', 'o']\n",
        "list2 = ['d', 'i', 'n', 'g']\n",
        "duplikat = [a for a in list1 for b in list2 if a == b]\n",
        "print(duplikat) # Output: ['d','i']"
      ],
      "execution_count": 29,
      "outputs": [
        {
          "output_type": "stream",
          "text": [
            "['d', 'i']\n"
          ],
          "name": "stdout"
        }
      ]
    },
    {
      "cell_type": "code",
      "metadata": {
        "colab": {
          "base_uri": "https://localhost:8080/"
        },
        "id": "Tf3ikk1rmgZI",
        "outputId": "7975b1a6-60f0-44e6-fd51-6b83179cfb28"
      },
      "source": [
        "# Contoh 5 kecilkan semua huruf\n",
        "list_a = [\"Hello\", \"World\", \"In\", \"Python\"]\n",
        "small_list_a = [_.lower() for _ in list_a]\n",
        "print(small_list_a)"
      ],
      "execution_count": 30,
      "outputs": [
        {
          "output_type": "stream",
          "text": [
            "['hello', 'world', 'in', 'python']\n"
          ],
          "name": "stdout"
        }
      ]
    }
  ]
}